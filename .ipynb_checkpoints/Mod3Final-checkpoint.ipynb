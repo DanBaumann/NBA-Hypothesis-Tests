{
 "cells": [
  {
   "cell_type": "markdown",
   "metadata": {},
   "source": [
    "<center><h1> Module 3 Project</h1></center>\n",
    "<center><h1> Hypothesis Testing</h1></center>"
   ]
  },
  {
   "cell_type": "markdown",
   "metadata": {},
   "source": [
    "# Authors: Dan Baumann & Sez Isguzar"
   ]
  },
  {
   "cell_type": "markdown",
   "metadata": {},
   "source": [
    "# Business Problem\n",
    "We are an NBA consulting firm that wish to improve the performance of NBA teams through statistical testing\n",
    "\n",
    "Our aim is to guide the New Orleans Pelicans to the NBA 2020 Season playoffs\n",
    "\n",
    "The Pelicans have had limited success in the past few years and reside in the bottom half of all teams for many metrics including:\n",
    "* Wins\n",
    "* Points conceded\n",
    "* Personal fouls\n",
    "* Shooting percentages \n",
    "\n",
    "Using hypothesis testing, we will be able to advise the franchise as how to improve their team"
   ]
  },
  {
   "cell_type": "markdown",
   "metadata": {},
   "source": [
    "## The Four Areas for Improvement"
   ]
  },
  {
   "cell_type": "markdown",
   "metadata": {},
   "source": [
    "Our consulting firm wants to advise the Pelicans in four key areas where we feel that drastic improvements can be made\n",
    "\n",
    "1. Raising your 3 point shooting percentage\n",
    "\n",
    "*The modern game requires clinical 3 point shooters* \n",
    "\n",
    "\n",
    "2. Decreasing the team's personal fouls count\n",
    "\n",
    "*Fouls invite more scoring opportunities for opponents*\n",
    "\n",
    "\n",
    "3. Raising your free throw shooting percentage\n",
    "\n",
    "*Maximises attacking efficiency*\n",
    "\n",
    "\n",
    "4. Making your defence more robust with more blocks made\n",
    "\n",
    "*Reduce the amount of shots that your opponent successfully makes*"
   ]
  },
  {
   "cell_type": "markdown",
   "metadata": {},
   "source": [
    "## Our Sample"
   ]
  },
  {
   "cell_type": "markdown",
   "metadata": {},
   "source": [
    "Using an NBA stats API, we were able to gather comprehensive statistics of more than 1500 players that have played within the last 20 years\n",
    "\n",
    "The sport has changed dramatically over generations so we feel that this time-frame best represents the modern game "
   ]
  },
  {
   "cell_type": "markdown",
   "metadata": {},
   "source": [
    "# Data Analysis"
   ]
  },
  {
   "cell_type": "code",
   "execution_count": 1,
   "metadata": {},
   "outputs": [],
   "source": [
    "import pandas as pd\n",
    "import matplotlib.pyplot as plt\n",
    "import seaborn as sns\n",
    "import scipy.stats as st\n",
    "import numpy as np\n",
    "from statsmodels.formula.api import ols\n",
    "import statsmodels.api as sm\n",
    "# import data_cleaning as dc\n",
    "# import hypothesis_testing as ht\n",
    "# import visualizations as vz\n",
    "%load_ext autoreload\n",
    "%autoreload 2"
   ]
  },
  {
   "cell_type": "code",
   "execution_count": 2,
   "metadata": {},
   "outputs": [],
   "source": [
    "# final_df = dc.full_clean()"
   ]
  },
  {
   "cell_type": "markdown",
   "metadata": {},
   "source": [
    "## Hypothesis One "
   ]
  },
  {
   "cell_type": "markdown",
   "metadata": {},
   "source": [
    "### 3 Point Shooting Percentage"
   ]
  },
  {
   "cell_type": "markdown",
   "metadata": {},
   "source": [
    "3 point shooting is becomming increasingly popular in basketball. A shooter who can average a 40% success rate from the 3 point range is more effective than a shooter in 2 point range up until a success rate of 60%\n",
    "\n",
    "In basketball, it is generally accepted that achieving a 40% 3P% is more feasible than achieving a 60% 2P%, thus the results of this hypothesis are highly important to any franchise "
   ]
  },
  {
   "cell_type": "markdown",
   "metadata": {},
   "source": [
    "## Hypothesis Three"
   ]
  },
  {
   "cell_type": "markdown",
   "metadata": {},
   "source": [
    "### Point Guards vs Shooting Guards"
   ]
  },
  {
   "cell_type": "code",
   "execution_count": 4,
   "metadata": {},
   "outputs": [],
   "source": [
    "# call the final_df\n",
    "# now need to make more cleaning functions for this one\n",
    "df = pd.read_csv('./final_df.csv', index_col = 0)"
   ]
  },
  {
   "cell_type": "code",
   "execution_count": 5,
   "metadata": {},
   "outputs": [
    {
     "data": {
      "text/html": [
       "<div>\n",
       "<style scoped>\n",
       "    .dataframe tbody tr th:only-of-type {\n",
       "        vertical-align: middle;\n",
       "    }\n",
       "\n",
       "    .dataframe tbody tr th {\n",
       "        vertical-align: top;\n",
       "    }\n",
       "\n",
       "    .dataframe thead th {\n",
       "        text-align: right;\n",
       "    }\n",
       "</style>\n",
       "<table border=\"1\" class=\"dataframe\">\n",
       "  <thead>\n",
       "    <tr style=\"text-align: right;\">\n",
       "      <th></th>\n",
       "      <th>Player</th>\n",
       "      <th>FG%</th>\n",
       "      <th>3P%</th>\n",
       "      <th>2P%</th>\n",
       "      <th>FT%</th>\n",
       "      <th>ORB/G</th>\n",
       "      <th>DRB/G</th>\n",
       "      <th>TRB/G</th>\n",
       "      <th>AST/G</th>\n",
       "      <th>STL/G</th>\n",
       "      <th>BLK/G</th>\n",
       "      <th>TOV/G</th>\n",
       "      <th>PF/G</th>\n",
       "      <th>PTS/G</th>\n",
       "      <th>POS</th>\n",
       "      <th>height</th>\n",
       "      <th>weight</th>\n",
       "    </tr>\n",
       "  </thead>\n",
       "  <tbody>\n",
       "    <tr>\n",
       "      <td>0</td>\n",
       "      <td>A.C. Green</td>\n",
       "      <td>0.442</td>\n",
       "      <td>0.062</td>\n",
       "      <td>0.448</td>\n",
       "      <td>0.675</td>\n",
       "      <td>1.890</td>\n",
       "      <td>3.722</td>\n",
       "      <td>5.615</td>\n",
       "      <td>0.865</td>\n",
       "      <td>0.633</td>\n",
       "      <td>0.202</td>\n",
       "      <td>0.602</td>\n",
       "      <td>1.572</td>\n",
       "      <td>5.440</td>\n",
       "      <td>PF</td>\n",
       "      <td>203.0</td>\n",
       "      <td>106.0</td>\n",
       "    </tr>\n",
       "    <tr>\n",
       "      <td>1</td>\n",
       "      <td>A.J. Guyton</td>\n",
       "      <td>0.384</td>\n",
       "      <td>0.382</td>\n",
       "      <td>0.381</td>\n",
       "      <td>0.824</td>\n",
       "      <td>0.285</td>\n",
       "      <td>0.750</td>\n",
       "      <td>1.035</td>\n",
       "      <td>1.870</td>\n",
       "      <td>0.245</td>\n",
       "      <td>0.155</td>\n",
       "      <td>0.775</td>\n",
       "      <td>0.785</td>\n",
       "      <td>5.710</td>\n",
       "      <td>PG</td>\n",
       "      <td>208.0</td>\n",
       "      <td>99.0</td>\n",
       "    </tr>\n",
       "    <tr>\n",
       "      <td>2</td>\n",
       "      <td>A.J. Hammons</td>\n",
       "      <td>0.405</td>\n",
       "      <td>0.500</td>\n",
       "      <td>0.375</td>\n",
       "      <td>0.450</td>\n",
       "      <td>0.360</td>\n",
       "      <td>1.270</td>\n",
       "      <td>1.640</td>\n",
       "      <td>0.180</td>\n",
       "      <td>0.050</td>\n",
       "      <td>0.590</td>\n",
       "      <td>0.450</td>\n",
       "      <td>0.950</td>\n",
       "      <td>2.180</td>\n",
       "      <td>C</td>\n",
       "      <td>198.0</td>\n",
       "      <td>99.0</td>\n",
       "    </tr>\n",
       "    <tr>\n",
       "      <td>3</td>\n",
       "      <td>A.J. Price</td>\n",
       "      <td>0.373</td>\n",
       "      <td>0.273</td>\n",
       "      <td>0.447</td>\n",
       "      <td>0.632</td>\n",
       "      <td>0.251</td>\n",
       "      <td>1.093</td>\n",
       "      <td>1.344</td>\n",
       "      <td>1.971</td>\n",
       "      <td>0.401</td>\n",
       "      <td>0.021</td>\n",
       "      <td>0.753</td>\n",
       "      <td>0.735</td>\n",
       "      <td>5.578</td>\n",
       "      <td>PG</td>\n",
       "      <td>213.0</td>\n",
       "      <td>124.0</td>\n",
       "    </tr>\n",
       "    <tr>\n",
       "      <td>4</td>\n",
       "      <td>Aaron Brooks</td>\n",
       "      <td>0.410</td>\n",
       "      <td>0.359</td>\n",
       "      <td>0.444</td>\n",
       "      <td>0.838</td>\n",
       "      <td>0.403</td>\n",
       "      <td>1.268</td>\n",
       "      <td>1.671</td>\n",
       "      <td>3.174</td>\n",
       "      <td>0.591</td>\n",
       "      <td>0.134</td>\n",
       "      <td>1.582</td>\n",
       "      <td>1.932</td>\n",
       "      <td>9.604</td>\n",
       "      <td>PG</td>\n",
       "      <td>183.0</td>\n",
       "      <td>73.0</td>\n",
       "    </tr>\n",
       "  </tbody>\n",
       "</table>\n",
       "</div>"
      ],
      "text/plain": [
       "         Player    FG%    3P%    2P%    FT%  ORB/G  DRB/G  TRB/G  AST/G  \\\n",
       "0    A.C. Green  0.442  0.062  0.448  0.675  1.890  3.722  5.615  0.865   \n",
       "1   A.J. Guyton  0.384  0.382  0.381  0.824  0.285  0.750  1.035  1.870   \n",
       "2  A.J. Hammons  0.405  0.500  0.375  0.450  0.360  1.270  1.640  0.180   \n",
       "3    A.J. Price  0.373  0.273  0.447  0.632  0.251  1.093  1.344  1.971   \n",
       "4  Aaron Brooks  0.410  0.359  0.444  0.838  0.403  1.268  1.671  3.174   \n",
       "\n",
       "   STL/G  BLK/G  TOV/G   PF/G  PTS/G POS  height  weight  \n",
       "0  0.633  0.202  0.602  1.572  5.440  PF   203.0   106.0  \n",
       "1  0.245  0.155  0.775  0.785  5.710  PG   208.0    99.0  \n",
       "2  0.050  0.590  0.450  0.950  2.180   C   198.0    99.0  \n",
       "3  0.401  0.021  0.753  0.735  5.578  PG   213.0   124.0  \n",
       "4  0.591  0.134  1.582  1.932  9.604  PG   183.0    73.0  "
      ]
     },
     "execution_count": 5,
     "metadata": {},
     "output_type": "execute_result"
    }
   ],
   "source": [
    "df.head()"
   ]
  },
  {
   "cell_type": "code",
   "execution_count": 6,
   "metadata": {},
   "outputs": [
    {
     "ename": "SyntaxError",
     "evalue": "invalid syntax (hypothesis_tests.py, line 202)",
     "output_type": "error",
     "traceback": [
      "Traceback \u001b[0;36m(most recent call last)\u001b[0m:\n",
      "  File \u001b[1;32m\"/anaconda3/envs/learn-env/lib/python3.6/site-packages/IPython/core/interactiveshell.py\"\u001b[0m, line \u001b[1;32m3326\u001b[0m, in \u001b[1;35mrun_code\u001b[0m\n    exec(code_obj, self.user_global_ns, self.user_ns)\n",
      "\u001b[0;36m  File \u001b[0;32m\"<ipython-input-6-40cee7fa501e>\"\u001b[0;36m, line \u001b[0;32m1\u001b[0;36m, in \u001b[0;35m<module>\u001b[0;36m\u001b[0m\n\u001b[0;31m    from hypothesis_tests import HT3\u001b[0m\n",
      "\u001b[0;36m  File \u001b[0;32m\"/Users/danbaumann/Documents/Flatiron_School/Projects/Mod3Project/hypothesis_tests.py\"\u001b[0;36m, line \u001b[0;32m202\u001b[0m\n\u001b[0;31m    alpha = 0.05\u001b[0m\n\u001b[0m        ^\u001b[0m\n\u001b[0;31mSyntaxError\u001b[0m\u001b[0;31m:\u001b[0m invalid syntax\n"
     ]
    }
   ],
   "source": [
    "from hypothesis_tests import HT3"
   ]
  },
  {
   "cell_type": "code",
   "execution_count": null,
   "metadata": {},
   "outputs": [],
   "source": []
  }
 ],
 "metadata": {
  "kernelspec": {
   "display_name": "Python 3",
   "language": "python",
   "name": "python3"
  },
  "language_info": {
   "codemirror_mode": {
    "name": "ipython",
    "version": 3
   },
   "file_extension": ".py",
   "mimetype": "text/x-python",
   "name": "python",
   "nbconvert_exporter": "python",
   "pygments_lexer": "ipython3",
   "version": "3.6.9"
  },
  "toc": {
   "base_numbering": 1,
   "nav_menu": {},
   "number_sections": true,
   "sideBar": true,
   "skip_h1_title": false,
   "title_cell": "Table of Contents",
   "title_sidebar": "Contents",
   "toc_cell": false,
   "toc_position": {},
   "toc_section_display": true,
   "toc_window_display": false
  },
  "varInspector": {
   "cols": {
    "lenName": 16,
    "lenType": 16,
    "lenVar": 40
   },
   "kernels_config": {
    "python": {
     "delete_cmd_postfix": "",
     "delete_cmd_prefix": "del ",
     "library": "var_list.py",
     "varRefreshCmd": "print(var_dic_list())"
    },
    "r": {
     "delete_cmd_postfix": ") ",
     "delete_cmd_prefix": "rm(",
     "library": "var_list.r",
     "varRefreshCmd": "cat(var_dic_list()) "
    }
   },
   "types_to_exclude": [
    "module",
    "function",
    "builtin_function_or_method",
    "instance",
    "_Feature"
   ],
   "window_display": false
  }
 },
 "nbformat": 4,
 "nbformat_minor": 2
}
