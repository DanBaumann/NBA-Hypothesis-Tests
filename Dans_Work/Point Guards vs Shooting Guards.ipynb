{
 "cells": [
  {
   "cell_type": "markdown",
   "metadata": {},
   "source": [
    "\n",
    "# Point Guards have a higher free throw percentage than Shooting Guards "
   ]
  },
  {
   "cell_type": "markdown",
   "metadata": {},
   "source": [
    "It is generally thought that point guards are more technical players than shooting guards, thus we believe that players who are guards would have higher free throw percentages than a centre. Our goal for this particular hypothesis is to prescribe a certain type of player position to a team that requires better free throw shooters. If a team currently lacks a clinical free throw shooter, then they should prioritise drafting a point guard over a shooting guard in the next NBA draft, should we be able to prove our alternative hypothesis correct."
   ]
  },
  {
   "cell_type": "markdown",
   "metadata": {},
   "source": [
    "## Hypothesis 3\n",
    "Null Hypothesis (H0): mu_point_guard = mu_shooting_guard\n",
    "* i.e the average free throw shooting percentage for point guards is no different to the shooting percentage of a shooting guards\n",
    "\n",
    "Alternative Hypothesis (H1): mu_point_guard > mu_shooting_guard\n",
    "* i.e. the average free throw shooting percentage for point guards is greater than the shooting percentage of shooting guards"
   ]
  },
  {
   "cell_type": "code",
   "execution_count": null,
   "metadata": {},
   "outputs": [],
   "source": []
  },
  {
   "cell_type": "markdown",
   "metadata": {},
   "source": [
    "## Loading in the data "
   ]
  },
  {
   "cell_type": "code",
   "execution_count": 55,
   "metadata": {},
   "outputs": [],
   "source": [
    "# Importing the necessary libraries\n",
    "import pandas as pd\n",
    "import matplotlib.pyplot as plt\n",
    "import seaborn as sns\n",
    "import scipy.stats as st\n",
    "import numpy as np"
   ]
  },
  {
   "cell_type": "code",
   "execution_count": 56,
   "metadata": {},
   "outputs": [
    {
     "data": {
      "text/plain": [
       "(1558, 17)"
      ]
     },
     "metadata": {},
     "output_type": "display_data"
    },
    {
     "name": "stdout",
     "output_type": "stream",
     "text": [
      "<class 'pandas.core.frame.DataFrame'>\n",
      "Int64Index: 1558 entries, 0 to 1557\n",
      "Data columns (total 17 columns):\n",
      "Player    1558 non-null object\n",
      "FG%       1558 non-null float64\n",
      "3P%       1558 non-null float64\n",
      "2P%       1558 non-null float64\n",
      "FT%       1558 non-null float64\n",
      "ORB/G     1558 non-null float64\n",
      "DRB/G     1558 non-null float64\n",
      "TRB/G     1558 non-null float64\n",
      "AST/G     1558 non-null float64\n",
      "STL/G     1558 non-null float64\n",
      "BLK/G     1558 non-null float64\n",
      "TOV/G     1558 non-null float64\n",
      "PF/G      1558 non-null float64\n",
      "PTS/G     1558 non-null float64\n",
      "POS       1558 non-null object\n",
      "height    1558 non-null float64\n",
      "weight    1558 non-null float64\n",
      "dtypes: float64(15), object(2)\n",
      "memory usage: 219.1+ KB\n"
     ]
    },
    {
     "data": {
      "text/plain": [
       "None"
      ]
     },
     "metadata": {},
     "output_type": "display_data"
    },
    {
     "data": {
      "text/html": [
       "<div>\n",
       "<style scoped>\n",
       "    .dataframe tbody tr th:only-of-type {\n",
       "        vertical-align: middle;\n",
       "    }\n",
       "\n",
       "    .dataframe tbody tr th {\n",
       "        vertical-align: top;\n",
       "    }\n",
       "\n",
       "    .dataframe thead th {\n",
       "        text-align: right;\n",
       "    }\n",
       "</style>\n",
       "<table border=\"1\" class=\"dataframe\">\n",
       "  <thead>\n",
       "    <tr style=\"text-align: right;\">\n",
       "      <th></th>\n",
       "      <th>Player</th>\n",
       "      <th>FG%</th>\n",
       "      <th>3P%</th>\n",
       "      <th>2P%</th>\n",
       "      <th>FT%</th>\n",
       "      <th>ORB/G</th>\n",
       "      <th>DRB/G</th>\n",
       "      <th>TRB/G</th>\n",
       "      <th>AST/G</th>\n",
       "      <th>STL/G</th>\n",
       "      <th>BLK/G</th>\n",
       "      <th>TOV/G</th>\n",
       "      <th>PF/G</th>\n",
       "      <th>PTS/G</th>\n",
       "      <th>POS</th>\n",
       "      <th>height</th>\n",
       "      <th>weight</th>\n",
       "    </tr>\n",
       "  </thead>\n",
       "  <tbody>\n",
       "    <tr>\n",
       "      <td>0</td>\n",
       "      <td>A.C. Green</td>\n",
       "      <td>0.442</td>\n",
       "      <td>0.062</td>\n",
       "      <td>0.448</td>\n",
       "      <td>0.675</td>\n",
       "      <td>1.890</td>\n",
       "      <td>3.722</td>\n",
       "      <td>5.615</td>\n",
       "      <td>0.865</td>\n",
       "      <td>0.633</td>\n",
       "      <td>0.202</td>\n",
       "      <td>0.602</td>\n",
       "      <td>1.572</td>\n",
       "      <td>5.440</td>\n",
       "      <td>PF</td>\n",
       "      <td>203.0</td>\n",
       "      <td>106.0</td>\n",
       "    </tr>\n",
       "    <tr>\n",
       "      <td>1</td>\n",
       "      <td>A.J. Guyton</td>\n",
       "      <td>0.384</td>\n",
       "      <td>0.382</td>\n",
       "      <td>0.381</td>\n",
       "      <td>0.824</td>\n",
       "      <td>0.285</td>\n",
       "      <td>0.750</td>\n",
       "      <td>1.035</td>\n",
       "      <td>1.870</td>\n",
       "      <td>0.245</td>\n",
       "      <td>0.155</td>\n",
       "      <td>0.775</td>\n",
       "      <td>0.785</td>\n",
       "      <td>5.710</td>\n",
       "      <td>PG</td>\n",
       "      <td>208.0</td>\n",
       "      <td>99.0</td>\n",
       "    </tr>\n",
       "    <tr>\n",
       "      <td>2</td>\n",
       "      <td>A.J. Hammons</td>\n",
       "      <td>0.405</td>\n",
       "      <td>0.500</td>\n",
       "      <td>0.375</td>\n",
       "      <td>0.450</td>\n",
       "      <td>0.360</td>\n",
       "      <td>1.270</td>\n",
       "      <td>1.640</td>\n",
       "      <td>0.180</td>\n",
       "      <td>0.050</td>\n",
       "      <td>0.590</td>\n",
       "      <td>0.450</td>\n",
       "      <td>0.950</td>\n",
       "      <td>2.180</td>\n",
       "      <td>C</td>\n",
       "      <td>198.0</td>\n",
       "      <td>99.0</td>\n",
       "    </tr>\n",
       "    <tr>\n",
       "      <td>3</td>\n",
       "      <td>A.J. Price</td>\n",
       "      <td>0.373</td>\n",
       "      <td>0.273</td>\n",
       "      <td>0.447</td>\n",
       "      <td>0.632</td>\n",
       "      <td>0.251</td>\n",
       "      <td>1.093</td>\n",
       "      <td>1.344</td>\n",
       "      <td>1.971</td>\n",
       "      <td>0.401</td>\n",
       "      <td>0.021</td>\n",
       "      <td>0.753</td>\n",
       "      <td>0.735</td>\n",
       "      <td>5.578</td>\n",
       "      <td>PG</td>\n",
       "      <td>213.0</td>\n",
       "      <td>124.0</td>\n",
       "    </tr>\n",
       "    <tr>\n",
       "      <td>4</td>\n",
       "      <td>Aaron Brooks</td>\n",
       "      <td>0.410</td>\n",
       "      <td>0.359</td>\n",
       "      <td>0.444</td>\n",
       "      <td>0.838</td>\n",
       "      <td>0.403</td>\n",
       "      <td>1.268</td>\n",
       "      <td>1.671</td>\n",
       "      <td>3.174</td>\n",
       "      <td>0.591</td>\n",
       "      <td>0.134</td>\n",
       "      <td>1.582</td>\n",
       "      <td>1.932</td>\n",
       "      <td>9.604</td>\n",
       "      <td>PG</td>\n",
       "      <td>183.0</td>\n",
       "      <td>73.0</td>\n",
       "    </tr>\n",
       "  </tbody>\n",
       "</table>\n",
       "</div>"
      ],
      "text/plain": [
       "         Player    FG%    3P%    2P%    FT%  ORB/G  DRB/G  TRB/G  AST/G  \\\n",
       "0    A.C. Green  0.442  0.062  0.448  0.675  1.890  3.722  5.615  0.865   \n",
       "1   A.J. Guyton  0.384  0.382  0.381  0.824  0.285  0.750  1.035  1.870   \n",
       "2  A.J. Hammons  0.405  0.500  0.375  0.450  0.360  1.270  1.640  0.180   \n",
       "3    A.J. Price  0.373  0.273  0.447  0.632  0.251  1.093  1.344  1.971   \n",
       "4  Aaron Brooks  0.410  0.359  0.444  0.838  0.403  1.268  1.671  3.174   \n",
       "\n",
       "   STL/G  BLK/G  TOV/G   PF/G  PTS/G POS  height  weight  \n",
       "0  0.633  0.202  0.602  1.572  5.440  PF   203.0   106.0  \n",
       "1  0.245  0.155  0.775  0.785  5.710  PG   208.0    99.0  \n",
       "2  0.050  0.590  0.450  0.950  2.180   C   198.0    99.0  \n",
       "3  0.401  0.021  0.753  0.735  5.578  PG   213.0   124.0  \n",
       "4  0.591  0.134  1.582  1.932  9.604  PG   183.0    73.0  "
      ]
     },
     "execution_count": 56,
     "metadata": {},
     "output_type": "execute_result"
    }
   ],
   "source": [
    "data = pd.read_csv('final_df.csv', index_col = 0)\n",
    "display(data.shape)\n",
    "display(data.info())\n",
    "data.head()"
   ]
  },
  {
   "cell_type": "markdown",
   "metadata": {},
   "source": [
    "## Creating subsets of data which meet our specification\n",
    "Firstly, we need to subset the data for players that play the specific position of point guards or shooting guards\n",
    "There are several counts of players playing multiple positions. We will remove these from our samples"
   ]
  },
  {
   "cell_type": "code",
   "execution_count": 57,
   "metadata": {},
   "outputs": [
    {
     "data": {
      "text/plain": [
       "PG       358\n",
       "SG       349\n",
       "SF       310\n",
       "PF       297\n",
       "C        232\n",
       "C-PF       4\n",
       "SG-SF      4\n",
       "SG-PG      2\n",
       "PG-SG      1\n",
       "SF-PF      1\n",
       "Name: POS, dtype: int64"
      ]
     },
     "execution_count": 57,
     "metadata": {},
     "output_type": "execute_result"
    }
   ],
   "source": [
    "data.POS.value_counts()"
   ]
  },
  {
   "cell_type": "markdown",
   "metadata": {},
   "source": [
    "* Our data shows that we have 358 PG(Point guards), 349 SG(Shooting guards) and 232 C(Centres)\n",
    "* There also seem to be three guards that have played both positions, we will keep these players in as they meet the specification\n",
    "* However, 4 centres also played the PF(Power forward) position. As these players do not meet our exact specification, we will drop them from our data to avoid sampling them"
   ]
  },
  {
   "cell_type": "markdown",
   "metadata": {},
   "source": [
    "### Point Guards Subset"
   ]
  },
  {
   "cell_type": "code",
   "execution_count": 158,
   "metadata": {},
   "outputs": [
    {
     "data": {
      "text/html": [
       "<div>\n",
       "<style scoped>\n",
       "    .dataframe tbody tr th:only-of-type {\n",
       "        vertical-align: middle;\n",
       "    }\n",
       "\n",
       "    .dataframe tbody tr th {\n",
       "        vertical-align: top;\n",
       "    }\n",
       "\n",
       "    .dataframe thead th {\n",
       "        text-align: right;\n",
       "    }\n",
       "</style>\n",
       "<table border=\"1\" class=\"dataframe\">\n",
       "  <thead>\n",
       "    <tr style=\"text-align: right;\">\n",
       "      <th></th>\n",
       "      <th>Player</th>\n",
       "      <th>FG%</th>\n",
       "      <th>3P%</th>\n",
       "      <th>2P%</th>\n",
       "      <th>FT%</th>\n",
       "      <th>ORB/G</th>\n",
       "      <th>DRB/G</th>\n",
       "      <th>TRB/G</th>\n",
       "      <th>AST/G</th>\n",
       "      <th>STL/G</th>\n",
       "      <th>BLK/G</th>\n",
       "      <th>TOV/G</th>\n",
       "      <th>PF/G</th>\n",
       "      <th>PTS/G</th>\n",
       "      <th>POS</th>\n",
       "      <th>height</th>\n",
       "      <th>weight</th>\n",
       "    </tr>\n",
       "  </thead>\n",
       "  <tbody>\n",
       "    <tr>\n",
       "      <td>1</td>\n",
       "      <td>A.J. Guyton</td>\n",
       "      <td>0.384</td>\n",
       "      <td>0.382</td>\n",
       "      <td>0.381</td>\n",
       "      <td>0.824</td>\n",
       "      <td>0.285</td>\n",
       "      <td>0.750</td>\n",
       "      <td>1.035</td>\n",
       "      <td>1.870</td>\n",
       "      <td>0.245</td>\n",
       "      <td>0.155</td>\n",
       "      <td>0.775</td>\n",
       "      <td>0.785</td>\n",
       "      <td>5.710</td>\n",
       "      <td>PG</td>\n",
       "      <td>208.0</td>\n",
       "      <td>99.0</td>\n",
       "    </tr>\n",
       "    <tr>\n",
       "      <td>3</td>\n",
       "      <td>A.J. Price</td>\n",
       "      <td>0.373</td>\n",
       "      <td>0.273</td>\n",
       "      <td>0.447</td>\n",
       "      <td>0.632</td>\n",
       "      <td>0.251</td>\n",
       "      <td>1.093</td>\n",
       "      <td>1.344</td>\n",
       "      <td>1.971</td>\n",
       "      <td>0.401</td>\n",
       "      <td>0.021</td>\n",
       "      <td>0.753</td>\n",
       "      <td>0.735</td>\n",
       "      <td>5.578</td>\n",
       "      <td>PG</td>\n",
       "      <td>213.0</td>\n",
       "      <td>124.0</td>\n",
       "    </tr>\n",
       "    <tr>\n",
       "      <td>4</td>\n",
       "      <td>Aaron Brooks</td>\n",
       "      <td>0.410</td>\n",
       "      <td>0.359</td>\n",
       "      <td>0.444</td>\n",
       "      <td>0.838</td>\n",
       "      <td>0.403</td>\n",
       "      <td>1.268</td>\n",
       "      <td>1.671</td>\n",
       "      <td>3.174</td>\n",
       "      <td>0.591</td>\n",
       "      <td>0.134</td>\n",
       "      <td>1.582</td>\n",
       "      <td>1.932</td>\n",
       "      <td>9.604</td>\n",
       "      <td>PG</td>\n",
       "      <td>183.0</td>\n",
       "      <td>73.0</td>\n",
       "    </tr>\n",
       "    <tr>\n",
       "      <td>10</td>\n",
       "      <td>Acie Law</td>\n",
       "      <td>0.414</td>\n",
       "      <td>0.207</td>\n",
       "      <td>0.463</td>\n",
       "      <td>0.764</td>\n",
       "      <td>0.158</td>\n",
       "      <td>0.726</td>\n",
       "      <td>0.882</td>\n",
       "      <td>1.368</td>\n",
       "      <td>0.497</td>\n",
       "      <td>0.022</td>\n",
       "      <td>0.720</td>\n",
       "      <td>0.898</td>\n",
       "      <td>3.930</td>\n",
       "      <td>PG</td>\n",
       "      <td>190.0</td>\n",
       "      <td>88.0</td>\n",
       "    </tr>\n",
       "    <tr>\n",
       "      <td>15</td>\n",
       "      <td>Adonis Jordan</td>\n",
       "      <td>0.500</td>\n",
       "      <td>0.000</td>\n",
       "      <td>1.000</td>\n",
       "      <td>0.500</td>\n",
       "      <td>0.000</td>\n",
       "      <td>0.000</td>\n",
       "      <td>0.000</td>\n",
       "      <td>0.750</td>\n",
       "      <td>0.750</td>\n",
       "      <td>0.000</td>\n",
       "      <td>0.500</td>\n",
       "      <td>0.000</td>\n",
       "      <td>1.500</td>\n",
       "      <td>PG</td>\n",
       "      <td>180.0</td>\n",
       "      <td>77.0</td>\n",
       "    </tr>\n",
       "  </tbody>\n",
       "</table>\n",
       "</div>"
      ],
      "text/plain": [
       "           Player    FG%    3P%    2P%    FT%  ORB/G  DRB/G  TRB/G  AST/G  \\\n",
       "1     A.J. Guyton  0.384  0.382  0.381  0.824  0.285  0.750  1.035  1.870   \n",
       "3      A.J. Price  0.373  0.273  0.447  0.632  0.251  1.093  1.344  1.971   \n",
       "4    Aaron Brooks  0.410  0.359  0.444  0.838  0.403  1.268  1.671  3.174   \n",
       "10       Acie Law  0.414  0.207  0.463  0.764  0.158  0.726  0.882  1.368   \n",
       "15  Adonis Jordan  0.500  0.000  1.000  0.500  0.000  0.000  0.000  0.750   \n",
       "\n",
       "    STL/G  BLK/G  TOV/G   PF/G  PTS/G POS  height  weight  \n",
       "1   0.245  0.155  0.775  0.785  5.710  PG   208.0    99.0  \n",
       "3   0.401  0.021  0.753  0.735  5.578  PG   213.0   124.0  \n",
       "4   0.591  0.134  1.582  1.932  9.604  PG   183.0    73.0  \n",
       "10  0.497  0.022  0.720  0.898  3.930  PG   190.0    88.0  \n",
       "15  0.750  0.000  0.500  0.000  1.500  PG   180.0    77.0  "
      ]
     },
     "metadata": {},
     "output_type": "display_data"
    },
    {
     "name": "stdout",
     "output_type": "stream",
     "text": [
      "There are 358 point guards that we can sample from\n"
     ]
    }
   ],
   "source": [
    "p_guards_df = data.loc[(data.POS == 'PG')]\n",
    "display(p_guards_df.head())\n",
    "print(\"There are {} point guards that we can sample from\".format(len(p_guards_df.Player)))\n"
   ]
  },
  {
   "cell_type": "code",
   "execution_count": 160,
   "metadata": {},
   "outputs": [
    {
     "data": {
      "text/plain": [
       "1     0.824\n",
       "3     0.632\n",
       "4     0.838\n",
       "10    0.764\n",
       "15    0.500\n",
       "Name: FT%, dtype: float64"
      ]
     },
     "metadata": {},
     "output_type": "display_data"
    },
    {
     "data": {
      "text/plain": [
       "pandas.core.series.Series"
      ]
     },
     "execution_count": 160,
     "metadata": {},
     "output_type": "execute_result"
    }
   ],
   "source": [
    "p_guards_ft = p_guards_df['FT%']\n",
    "display(p_guards_ft.head())\n",
    "type(p_guards_ft)"
   ]
  },
  {
   "cell_type": "markdown",
   "metadata": {},
   "source": [
    "### Shooting Guards Subset"
   ]
  },
  {
   "cell_type": "code",
   "execution_count": 162,
   "metadata": {},
   "outputs": [
    {
     "data": {
      "text/html": [
       "<div>\n",
       "<style scoped>\n",
       "    .dataframe tbody tr th:only-of-type {\n",
       "        vertical-align: middle;\n",
       "    }\n",
       "\n",
       "    .dataframe tbody tr th {\n",
       "        vertical-align: top;\n",
       "    }\n",
       "\n",
       "    .dataframe thead th {\n",
       "        text-align: right;\n",
       "    }\n",
       "</style>\n",
       "<table border=\"1\" class=\"dataframe\">\n",
       "  <thead>\n",
       "    <tr style=\"text-align: right;\">\n",
       "      <th></th>\n",
       "      <th>Player</th>\n",
       "      <th>FG%</th>\n",
       "      <th>3P%</th>\n",
       "      <th>2P%</th>\n",
       "      <th>FT%</th>\n",
       "      <th>ORB/G</th>\n",
       "      <th>DRB/G</th>\n",
       "      <th>TRB/G</th>\n",
       "      <th>AST/G</th>\n",
       "      <th>STL/G</th>\n",
       "      <th>BLK/G</th>\n",
       "      <th>TOV/G</th>\n",
       "      <th>PF/G</th>\n",
       "      <th>PTS/G</th>\n",
       "      <th>POS</th>\n",
       "      <th>height</th>\n",
       "      <th>weight</th>\n",
       "    </tr>\n",
       "  </thead>\n",
       "  <tbody>\n",
       "    <tr>\n",
       "      <td>7</td>\n",
       "      <td>Aaron Harrison</td>\n",
       "      <td>0.132</td>\n",
       "      <td>0.150</td>\n",
       "      <td>0.111</td>\n",
       "      <td>0.458</td>\n",
       "      <td>0.095</td>\n",
       "      <td>0.560</td>\n",
       "      <td>0.655</td>\n",
       "      <td>0.350</td>\n",
       "      <td>0.145</td>\n",
       "      <td>0.000</td>\n",
       "      <td>0.095</td>\n",
       "      <td>0.440</td>\n",
       "      <td>0.530</td>\n",
       "      <td>SG</td>\n",
       "      <td>198.0</td>\n",
       "      <td>95.0</td>\n",
       "    </tr>\n",
       "    <tr>\n",
       "      <td>11</td>\n",
       "      <td>Adam Harrington</td>\n",
       "      <td>0.294</td>\n",
       "      <td>0.351</td>\n",
       "      <td>0.269</td>\n",
       "      <td>0.750</td>\n",
       "      <td>0.073</td>\n",
       "      <td>0.450</td>\n",
       "      <td>0.523</td>\n",
       "      <td>0.817</td>\n",
       "      <td>0.120</td>\n",
       "      <td>0.043</td>\n",
       "      <td>0.087</td>\n",
       "      <td>0.523</td>\n",
       "      <td>1.867</td>\n",
       "      <td>SG</td>\n",
       "      <td>196.0</td>\n",
       "      <td>90.0</td>\n",
       "    </tr>\n",
       "    <tr>\n",
       "      <td>18</td>\n",
       "      <td>Adrian Griffin</td>\n",
       "      <td>0.411</td>\n",
       "      <td>0.237</td>\n",
       "      <td>0.421</td>\n",
       "      <td>0.687</td>\n",
       "      <td>0.966</td>\n",
       "      <td>2.052</td>\n",
       "      <td>3.023</td>\n",
       "      <td>1.303</td>\n",
       "      <td>0.864</td>\n",
       "      <td>0.128</td>\n",
       "      <td>0.638</td>\n",
       "      <td>1.788</td>\n",
       "      <td>3.784</td>\n",
       "      <td>SG</td>\n",
       "      <td>196.0</td>\n",
       "      <td>98.0</td>\n",
       "    </tr>\n",
       "    <tr>\n",
       "      <td>28</td>\n",
       "      <td>Alec Burks</td>\n",
       "      <td>0.420</td>\n",
       "      <td>0.360</td>\n",
       "      <td>0.435</td>\n",
       "      <td>0.755</td>\n",
       "      <td>0.655</td>\n",
       "      <td>2.412</td>\n",
       "      <td>3.067</td>\n",
       "      <td>1.812</td>\n",
       "      <td>0.588</td>\n",
       "      <td>0.150</td>\n",
       "      <td>1.390</td>\n",
       "      <td>1.915</td>\n",
       "      <td>10.348</td>\n",
       "      <td>SG</td>\n",
       "      <td>198.0</td>\n",
       "      <td>97.0</td>\n",
       "    </tr>\n",
       "    <tr>\n",
       "      <td>29</td>\n",
       "      <td>Alex Abrines</td>\n",
       "      <td>0.393</td>\n",
       "      <td>0.381</td>\n",
       "      <td>0.426</td>\n",
       "      <td>0.898</td>\n",
       "      <td>0.260</td>\n",
       "      <td>1.000</td>\n",
       "      <td>1.260</td>\n",
       "      <td>0.590</td>\n",
       "      <td>0.540</td>\n",
       "      <td>0.120</td>\n",
       "      <td>0.490</td>\n",
       "      <td>1.680</td>\n",
       "      <td>5.970</td>\n",
       "      <td>SG</td>\n",
       "      <td>198.0</td>\n",
       "      <td>86.0</td>\n",
       "    </tr>\n",
       "  </tbody>\n",
       "</table>\n",
       "</div>"
      ],
      "text/plain": [
       "             Player    FG%    3P%    2P%    FT%  ORB/G  DRB/G  TRB/G  AST/G  \\\n",
       "7    Aaron Harrison  0.132  0.150  0.111  0.458  0.095  0.560  0.655  0.350   \n",
       "11  Adam Harrington  0.294  0.351  0.269  0.750  0.073  0.450  0.523  0.817   \n",
       "18   Adrian Griffin  0.411  0.237  0.421  0.687  0.966  2.052  3.023  1.303   \n",
       "28       Alec Burks  0.420  0.360  0.435  0.755  0.655  2.412  3.067  1.812   \n",
       "29     Alex Abrines  0.393  0.381  0.426  0.898  0.260  1.000  1.260  0.590   \n",
       "\n",
       "    STL/G  BLK/G  TOV/G   PF/G   PTS/G POS  height  weight  \n",
       "7   0.145  0.000  0.095  0.440   0.530  SG   198.0    95.0  \n",
       "11  0.120  0.043  0.087  0.523   1.867  SG   196.0    90.0  \n",
       "18  0.864  0.128  0.638  1.788   3.784  SG   196.0    98.0  \n",
       "28  0.588  0.150  1.390  1.915  10.348  SG   198.0    97.0  \n",
       "29  0.540  0.120  0.490  1.680   5.970  SG   198.0    86.0  "
      ]
     },
     "metadata": {},
     "output_type": "display_data"
    },
    {
     "name": "stdout",
     "output_type": "stream",
     "text": [
      "There are 349 shooting guards that we can sample from\n"
     ]
    }
   ],
   "source": [
    "s_guards_df = data.loc[(data.POS == 'SG')]\n",
    "display(s_guards_df.head())\n",
    "print(\"There are {} shooting guards that we can sample from\".format(len(s_guards_df.Player)))"
   ]
  },
  {
   "cell_type": "code",
   "execution_count": 163,
   "metadata": {},
   "outputs": [
    {
     "data": {
      "text/plain": [
       "7     0.458\n",
       "11    0.750\n",
       "18    0.687\n",
       "28    0.755\n",
       "29    0.898\n",
       "Name: FT%, dtype: float64"
      ]
     },
     "metadata": {},
     "output_type": "display_data"
    },
    {
     "data": {
      "text/plain": [
       "pandas.core.series.Series"
      ]
     },
     "execution_count": 163,
     "metadata": {},
     "output_type": "execute_result"
    }
   ],
   "source": [
    "s_guards_ft = s_guards_df['FT%']\n",
    "display(s_guards_ft.head())\n",
    "type(s_guards_ft)"
   ]
  },
  {
   "cell_type": "markdown",
   "metadata": {},
   "source": [
    "## Analysing Distributions\n",
    "* In order to understand which sampling method we should use, we can look at the distribution of our results"
   ]
  },
  {
   "cell_type": "markdown",
   "metadata": {},
   "source": [
    "### Distribution Plot of Free Throw Shooting Percentages for all positions"
   ]
  },
  {
   "cell_type": "code",
   "execution_count": 62,
   "metadata": {},
   "outputs": [
    {
     "data": {
      "text/plain": [
       "<matplotlib.axes._subplots.AxesSubplot at 0x1a241a5a58>"
      ]
     },
     "execution_count": 62,
     "metadata": {},
     "output_type": "execute_result"
    },
    {
     "data": {
      "image/png": "[encoded data removed]",
      "text/plain": [
       "<Figure size 432x288 with 1 Axes>"
      ]
     },
     "metadata": {
      "needs_background": "light"
     },
     "output_type": "display_data"
    }
   ],
   "source": [
    "sns.distplot(data['FT%'], hist = True, hist_kws = {\n",
    "                                                \"linewidth\": 2,\n",
    "                                                \"edgecolor\": 'red',\n",
    "                                                \"alpha\": 0.5,\n",
    "                                                \"color\": \"w\",})"
   ]
  },
  {
   "cell_type": "markdown",
   "metadata": {},
   "source": [
    "### Distribution Plot of Free Throw Shooting Percentages for Point Guards"
   ]
  },
  {
   "cell_type": "code",
   "execution_count": 164,
   "metadata": {
    "scrolled": true
   },
   "outputs": [
    {
     "data": {
      "text/plain": [
       "<matplotlib.axes._subplots.AxesSubplot at 0x1a26b11eb8>"
      ]
     },
     "execution_count": 164,
     "metadata": {},
     "output_type": "execute_result"
    },
    {
     "data": {
      "image/png": "[encoded data removed]",
      "text/plain": [
       "<Figure size 432x288 with 1 Axes>"
      ]
     },
     "metadata": {
      "needs_background": "light"
     },
     "output_type": "display_data"
    }
   ],
   "source": [
    "sns.distplot(p_guards_ft, hist = True, hist_kws = {\n",
    "                                                \"linewidth\": 2,\n",
    "                                                \"edgecolor\": 'red',\n",
    "                                                \"alpha\": 0.5,\n",
    "                                                \"color\": \"w\",})"
   ]
  },
  {
   "cell_type": "markdown",
   "metadata": {},
   "source": [
    "### Distribution Plot of Free Throw Shooting Percentages for Shooting Guards"
   ]
  },
  {
   "cell_type": "code",
   "execution_count": 115,
   "metadata": {},
   "outputs": [
    {
     "data": {
      "text/plain": [
       "<matplotlib.axes._subplots.AxesSubplot at 0x1a2440c5c0>"
      ]
     },
     "execution_count": 115,
     "metadata": {},
     "output_type": "execute_result"
    },
    {
     "data": {
      "image/png": "[encoded data removed]",
      "text/plain": [
       "<Figure size 432x288 with 1 Axes>"
      ]
     },
     "metadata": {
      "needs_background": "light"
     },
     "output_type": "display_data"
    }
   ],
   "source": [
    "sns.distplot(centers_ft, hist = True, hist_kws = {\n",
    "                                                \"linewidth\": 2,\n",
    "                                                \"edgecolor\": 'red',\n",
    "                                                \"alpha\": 0.5,\n",
    "                                                \"color\": \"w\",})"
   ]
  },
  {
   "cell_type": "markdown",
   "metadata": {},
   "source": [
    "### Testing for normality"
   ]
  },
  {
   "cell_type": "code",
   "execution_count": 165,
   "metadata": {},
   "outputs": [
    {
     "name": "stdout",
     "output_type": "stream",
     "text": [
      "Results for all data: \n",
      "Statistic: 459.4738749077441 \n",
      "p-value: 1.684673616326273e-100\n",
      "\n",
      "Results for point guards data: \n",
      "Statistic: 123.615927919434 \n",
      "p-value: 1.435959908152222e-27\n",
      "\n",
      "Results for shoointg guards data: \n",
      "Statistic: 147.22185223827486 \n",
      "p-value: 1.0744370571733081e-32\n"
     ]
    }
   ],
   "source": [
    "# To gauge the distribution of our data, we can use a normality test which is a function included from scipy.stats\n",
    "# This function tests the hypothesis that our input data is normally distributed\n",
    "# The null hypothesis stats that data is normally distributed\n",
    "# We typically reject the null hypothesis if the p-value is less than 0.05\n",
    "# This means we accept the alternative hypothesis which states that the data is not normally distributed\n",
    "all_data_test = st.normaltest(data['FT%'])\n",
    "p_guards_data_test = st.normaltest(p_guards_ft)\n",
    "s_guards_data_test = st.normaltest(s_guards_ft)\n",
    "\n",
    "print(\"Results for all data: \\nStatistic: {} \\np-value: {}\".format(all_data_test[0], all_data_test[1]))\n",
    "\n",
    "print(\"\\nResults for point guards data: \\nStatistic: {} \\np-value: {}\".format(p_guards_data_test[0], p_guards_data_test[1]))\n",
    "\n",
    "print(\"\\nResults for shoointg guards data: \\nStatistic: {} \\np-value: {}\".format(s_guards_data_test[0], s_guards_data_test[1]))\n"
   ]
  },
  {
   "cell_type": "markdown",
   "metadata": {},
   "source": [
    "The output for normality tests show that the distributions for free throw shooting percentages is not normal as the p-value for all is less than 0.05, thus allowing us to reject our null hypothesis that the distribution is normal \n",
    "* Our next step would be to use repeated random sampling (with replacement) in order to achieve a more normal distribution\n",
    "* This is achieved by Central Limit Theorem\n",
    "* In probability theory, the central limit theorem establishes that, in some situations, when independent random variables are added, their properly normalized sum tends toward a normal distribution even if the original variables themselves are not normally distributed."
   ]
  },
  {
   "cell_type": "markdown",
   "metadata": {},
   "source": [
    "# Creating Functions"
   ]
  },
  {
   "cell_type": "markdown",
   "metadata": {},
   "source": [
    "## Getting a Sample"
   ]
  },
  {
   "cell_type": "code",
   "execution_count": 166,
   "metadata": {},
   "outputs": [
    {
     "name": "stdout",
     "output_type": "stream",
     "text": [
      "[0.559, 0.816, 0.6, 0.5, 0.654, 0.641, 0.718, 0.83, 0.864, 0.731, 0.556, 0.892, 0.815, 0.693, 0.833, 0.819, 0.357, 0.355, 0.716, 0.808, 0.76, 0.688, 0.774, 0.687, 0.688, 0.764, 0.694, 0.676, 0.889, 0.778]\n"
     ]
    }
   ],
   "source": [
    "np.random.seed(10)\n",
    "\n",
    "def get_sample(data, n):\n",
    "    sample = []\n",
    "    while len(sample) != 30: #In central limit theorem, sample size of 30 is accepted as the sample size where CLT kicks in\n",
    "        x = np.random.choice(round(data, 3))\n",
    "        sample.append(x)\n",
    "    return sample\n",
    "\n",
    "test_sample = get_sample(data['FT%'], 30)\n",
    "print(test_sample)\n",
    "# Here we ran a test_sample from our dataset which does not include subsets"
   ]
  },
  {
   "cell_type": "markdown",
   "metadata": {},
   "source": [
    "## Getting Sample Means"
   ]
  },
  {
   "cell_type": "code",
   "execution_count": 167,
   "metadata": {},
   "outputs": [
    {
     "name": "stdout",
     "output_type": "stream",
     "text": [
      "0.7051666666666664\n"
     ]
    }
   ],
   "source": [
    "np.random.seed(10)\n",
    "\n",
    "def get_sample_mean(sample):\n",
    "    return sum(sample)/len(sample)\n",
    "\n",
    "test_sample2 = get_sample(data['FT%'], 30)\n",
    "test_sample2_mean = get_sample_mean(test_sample2)\n",
    "print(test_sample2_mean)\n",
    "# Here we have a function that calculates sample mean"
   ]
  },
  {
   "cell_type": "code",
   "execution_count": 228,
   "metadata": {},
   "outputs": [
    {
     "name": "stdout",
     "output_type": "stream",
     "text": [
      "30\n"
     ]
    }
   ],
   "source": [
    "np.random.seed(10)\n",
    "\n",
    "def create_sample_distribution(data, dist_size, n = 30):\n",
    "    sample_dist = []\n",
    "    while len(sample_dist) != dist_size:\n",
    "        sample = get_sample(data, n)\n",
    "        sample_mean = get_sample_mean(sample)\n",
    "        sample_dist.append(sample_mean)\n",
    "    return sample_dist\n",
    "\n",
    "test_sample_dist = create_sample_distribution(data['FT%'], dist_size = 30)\n",
    "print(len(test_sample_dist) )"
   ]
  },
  {
   "cell_type": "code",
   "execution_count": 169,
   "metadata": {},
   "outputs": [
    {
     "data": {
      "text/plain": [
       "<matplotlib.axes._subplots.AxesSubplot at 0x1a26b2d160>"
      ]
     },
     "execution_count": 169,
     "metadata": {},
     "output_type": "execute_result"
    },
    {
     "data": {
      "image/png": "[encoded data removed]",
      "text/plain": [
       "<Figure size 432x288 with 1 Axes>"
      ]
     },
     "metadata": {
      "needs_background": "light"
     },
     "output_type": "display_data"
    }
   ],
   "source": [
    "sns.distplot(test_sample_dist, hist = True, hist_kws = {\n",
    "                                                \"linewidth\": 2,\n",
    "                                                \"edgecolor\": 'red',\n",
    "                                                \"alpha\": 0.5,\n",
    "                                                \"color\": \"w\",})"
   ]
  },
  {
   "cell_type": "code",
   "execution_count": 170,
   "metadata": {},
   "outputs": [
    {
     "data": {
      "text/plain": [
       "NormaltestResult(statistic=0.17074767711562347, pvalue=0.918168973269192)"
      ]
     },
     "execution_count": 170,
     "metadata": {},
     "output_type": "execute_result"
    }
   ],
   "source": [
    "st.normaltest(test_sample_dist)\n",
    "# Above is an example of how CLT works\n",
    "# By creating a sample distribution from our initial data set, with 30 sample_means in our list\n",
    "# We have created a distribution of means that exhibits more normality \n",
    "# Our test for normality with the new distribution does not allow us to reject our null hypothesis\n",
    "# Thus we can conclude that the distribution is normal as the p-value is far greater than 0.05"
   ]
  },
  {
   "cell_type": "markdown",
   "metadata": {},
   "source": [
    "# Applying our sampling methods to our outcomes of interest"
   ]
  },
  {
   "cell_type": "markdown",
   "metadata": {},
   "source": [
    "## Creating a Sample Distribution of  Free Throw Shooting Percentages for Guards"
   ]
  },
  {
   "cell_type": "code",
   "execution_count": 218,
   "metadata": {},
   "outputs": [
    {
     "name": "stdout",
     "output_type": "stream",
     "text": [
      "Sample Distribution mean: 0.7625643333333333\n",
      "\n",
      "Sample Distribution median: 0.7671999999999999\n",
      "\n",
      "Sample Distribution variance: 0.00047051756122222196\n",
      "\n",
      "Sample Distribution standard deviation: 0.02169141676383131\n",
      "\n",
      "Results for guards data: \n",
      "Statistic: 1.85265000352336 \n",
      "p-value: 0.3960063621736338\n"
     ]
    },
    {
     "data": {
      "image/png": "[encoded data removed]",
      "text/plain": [
       "<Figure size 432x288 with 1 Axes>"
      ]
     },
     "metadata": {
      "needs_background": "light"
     },
     "output_type": "display_data"
    }
   ],
   "source": [
    "np.random.seed(10)\n",
    "p_guards_sample = create_sample_distribution(p_guards_ft, dist_size = 100, n = 30)\n",
    "sns.distplot(p_guards_sample, hist = True, hist_kws = {\n",
    "                                                \"linewidth\": 2,\n",
    "                                                \"edgecolor\": 'red',\n",
    "                                                \"alpha\": 0.5,\n",
    "                                                \"color\": \"w\",})\n",
    "p_guards_sample_normal_test = st.normaltest(p_guards_sample)\n",
    "\n",
    "print(\"Sample Distribution mean: {}\".format(np.mean(p_guards_sample)))\n",
    "print(\"\\nSample Distribution median: {}\".format(np.median(p_guards_sample)))\n",
    "print(\"\\nSample Distribution variance: {}\".format(np.var(p_guards_sample)))\n",
    "print(\"\\nSample Distribution standard deviation: {}\".format(np.std(p_guards_sample)))\n",
    "\n",
    "\n",
    "print(\"\\nResults for guards data: \\nStatistic: {} \\np-value: {}\"\n",
    "      .format(p_guards_sample_normal_test[0], p_guards_sample_normal_test[1]))\n"
   ]
  },
  {
   "cell_type": "markdown",
   "metadata": {},
   "source": [
    "## Creating a Sample Distribution of Free Throw Shooting Percentages for Centres"
   ]
  },
  {
   "cell_type": "code",
   "execution_count": 217,
   "metadata": {},
   "outputs": [
    {
     "name": "stdout",
     "output_type": "stream",
     "text": [
      "Sample Distribution mean: 0.7350063333333334\n",
      "\n",
      "Sample Distribution median: 0.7378\n",
      "\n",
      "Sample Distribution variance: 0.0006261938154444441\n",
      "\n",
      "Sample Distribution standard deviation: 0.025023864918202465\n",
      "\n",
      "Results for centers data: \n",
      "Statistic: 0.6512737069110354 \n",
      "p-value: 0.7220673560912614\n"
     ]
    },
    {
     "data": {
      "image/png": "[encoded data removed]",
      "text/plain": [
       "<Figure size 432x288 with 1 Axes>"
      ]
     },
     "metadata": {
      "needs_background": "light"
     },
     "output_type": "display_data"
    }
   ],
   "source": [
    "np.random.seed(10)\n",
    "s_guards_sample = create_sample_distribution(s_guards_ft, dist_size = 100, n = 30)\n",
    "sns.distplot(s_guards_sample, hist = True, hist_kws = {\n",
    "                                                \"linewidth\": 2,\n",
    "                                                \"edgecolor\": 'red',\n",
    "                                                \"alpha\": 0.5,\n",
    "                                                \"color\": \"w\",})\n",
    "s_guards_sample_normal_test = st.normaltest(s_guards_sample)\n",
    "\n",
    "print(\"Sample Distribution mean: {}\".format(np.mean(s_guards_sample)))\n",
    "print(\"\\nSample Distribution median: {}\".format(np.median(s_guards_sample)))\n",
    "print(\"\\nSample Distribution variance: {}\".format(np.var(s_guards_sample)))\n",
    "print(\"\\nSample Distribution standard deviation: {}\".format(np.std(s_guards_sample)))\n",
    "\n",
    "\n",
    "print(\"\\nResults for centers data: \\nStatistic: {} \\np-value: {}\"\n",
    "      .format(s_guards_sample_normal_test[0], s_guards_sample_normal_test[1]))\n"
   ]
  },
  {
   "cell_type": "markdown",
   "metadata": {},
   "source": [
    "# Welch's T-test"
   ]
  },
  {
   "cell_type": "markdown",
   "metadata": {},
   "source": [
    "## Why Welch's T-test?"
   ]
  },
  {
   "cell_type": "markdown",
   "metadata": {},
   "source": [
    "* Welch's T-test as opposed to the Student's T-test is more appropriate when sample sizes and variances between two groups are unequal\n",
    "* As seen in our sampling section, variances across groups differ, thus we feel it appropriate to use Welch's T-test\n",
    "* We will use Welch's T-test in order to determinne whether the mean of two samples indicate different underlying population parameters. \n"
   ]
  },
  {
   "cell_type": "markdown",
   "metadata": {},
   "source": [
    "## Calculating the t-statistic "
   ]
  },
  {
   "cell_type": "markdown",
   "metadata": {},
   "source": [
    "Welch's T-test is given by the following formula:\n",
    "\n",
    " $ \\Large t = \\frac{\\bar{X_1}-\\bar{X_2}}{\\sqrt{\\frac{s_1^2}{N_1} + \\frac{s_2^2}{N_2}}} = \\frac{\\bar{X_1}-\\bar{X_2}}{\\sqrt{se_1^2+se_2^2}}$\n",
    " \n",
    "where $\\bar{X_i}$ , $s_i$, and $N_i$ are the sample mean, sample variance, and sample size, respectively, for sample i."
   ]
  },
  {
   "cell_type": "code",
   "execution_count": 219,
   "metadata": {},
   "outputs": [],
   "source": [
    "def welch_t(a, b):\n",
    "    np.asarray(a)\n",
    "    np.asarray(b)\n",
    "    num = a.mean() - b.mean()\n",
    "    se_a = a.var(ddof=1)/a.size\n",
    "    se_b = b.var(ddof=1)/b.size\n",
    "    denom = np.sqrt(se_a + se_b)\n",
    "    return np.abs(num/denom) #returns the absolute value of our t-statistic \n",
    "\n",
    "# The above function gives us the Welch's t-statistic for two samples"
   ]
  },
  {
   "cell_type": "markdown",
   "metadata": {},
   "source": [
    "## Calculating the degrees of freedom"
   ]
  },
  {
   "cell_type": "markdown",
   "metadata": {},
   "source": [
    "We need to also calculate the degrees of freedom to determine the appropriate t-distribution and conver this score into a p-value. This will allow us to accept or reject our null hypothesis (that there is no difference between the free throw shooting percentage of guards and centers\n",
    "\n",
    "Degrees of freedom is given by the following formula:\n",
    "\n",
    "$ \\large v \\approx \\frac{\\left( \\frac{s_1^2}{N_1} + \\frac{s_2^2}{N_2}\\right)^2}{\\frac{s_1^4}{N_1^2v_1} + \\frac{s_2^4}{N_2^2v_2}} $\n",
    "\n",
    "where $N_i$ - sample size of sample i , $s_i$ - variance of sample i  , $v_i$ - degrees of freedom for sample i (equivalent to $N_i$-1)  "
   ]
  },
  {
   "cell_type": "code",
   "execution_count": 220,
   "metadata": {},
   "outputs": [],
   "source": [
    "def welch_df(a, b):\n",
    "    np.asarray(a)\n",
    "    np.asarray(b)\n",
    "    s1 = a.var(ddof=1)\n",
    "    s2 = b.var(ddof=1)\n",
    "    N1 = a.size\n",
    "    N2 = b.size\n",
    "    V1 = a.size - 1\n",
    "    V2 = b.size - 1\n",
    "    num = (s1/N1 + s2/N2)**2\n",
    "    denom = (s1/ N1)**2/V1 + (s2/ N2)**2/(V2)\n",
    "    \n",
    "    return num/denom #returns our degrees of freedom approximation \n"
   ]
  },
  {
   "cell_type": "markdown",
   "metadata": {},
   "source": [
    "## Converting our results to a p-value"
   ]
  },
  {
   "cell_type": "markdown",
   "metadata": {},
   "source": [
    "In statistics, the p-value informs us of the probability of, given the null hypothesis has been rejected, obtaining new test results at least as extreme as results actually observed during a test\n",
    "* It is generally accepted that a p-value of 0.05 or less provides enough significance of results\n",
    "* A p-value of 0.05 means that we can reject our null hypothesis and that the probability of obtianing new test results that do not allow us to reject our null hypothesis is 5%"
   ]
  },
  {
   "cell_type": "code",
   "execution_count": 221,
   "metadata": {},
   "outputs": [],
   "source": [
    "def p_value(a, b, two_sided=False):\n",
    "    # Your code here\n",
    "    t = welch_t(a, b)\n",
    "    df = welch_df(a, b)\n",
    "    p = 1 - st.t.cdf(t, df)\n",
    "    return p"
   ]
  },
  {
   "cell_type": "markdown",
   "metadata": {},
   "source": [
    "# Testing our hypothesis"
   ]
  },
  {
   "cell_type": "markdown",
   "metadata": {},
   "source": [
    "*Recall our hypotheses:*\n",
    "    \n",
    "Null Hypothesis (H0): mu_guard = mu_centre\n",
    "* i.e the average free throw shooting percentage for guards is no different to the shooting percentage of a centre\n",
    "\n",
    "Alternative Hypothesis (H1): mu_guard > mu_centre\n",
    "* i.e. the average free throw shooting percentage for guards is greater than the shooting percentage of centres"
   ]
  },
  {
   "cell_type": "markdown",
   "metadata": {},
   "source": [
    "Calculating the t-critical value:"
   ]
  },
  {
   "cell_type": "code",
   "execution_count": 222,
   "metadata": {},
   "outputs": [
    {
     "name": "stdout",
     "output_type": "stream",
     "text": [
      "0.05 1.6527423311044684\n"
     ]
    }
   ],
   "source": [
    "PG = np.asarray(p_guards_sample)\n",
    "SG = np.asarray(s_guards_sample)\n",
    "alpha = 0.05\n",
    "t_crit = st.t.ppf(1-alpha, df = welch_df(PG, SG))\n",
    "print(alpha, t_crit)"
   ]
  },
  {
   "cell_type": "code",
   "execution_count": 223,
   "metadata": {},
   "outputs": [],
   "source": [
    "p = p_value(PG, SG, two_sided = False)\n",
    "t_statistic = welch_t(PG, SG)"
   ]
  },
  {
   "cell_type": "code",
   "execution_count": 224,
   "metadata": {},
   "outputs": [
    {
     "data": {
      "text/plain": [
       "<matplotlib.legend.Legend at 0x1a243f1be0>"
      ]
     },
     "execution_count": 224,
     "metadata": {},
     "output_type": "execute_result"
    },
    {
     "data": {
      "image/png": "[encoded data removed]",
      "text/plain": [
       "<Figure size 432x288 with 1 Axes>"
      ]
     },
     "metadata": {
      "needs_background": "light"
     },
     "output_type": "display_data"
    }
   ],
   "source": [
    "sns.distplot(PG, hist = True, hist_kws = {\n",
    "                                                \"linewidth\": 2,\n",
    "                                                \"edgecolor\": 'blue',\n",
    "                                                \"alpha\": 0.5,\n",
    "                                                \"color\": \"w\",\n",
    "                                                \"label\": 'Point Guards'})\n",
    "sns.distplot(SG, hist = True, hist_kws = {\n",
    "                                                \"linewidth\": 2,\n",
    "                                                \"edgecolor\": 'red',\n",
    "                                                \"alpha\": 0.5,\n",
    "                                                \"color\": \"w\",\n",
    "                                                \"label\": \"Shooting Guards\"})\n",
    "plt.legend()"
   ]
  },
  {
   "cell_type": "code",
   "execution_count": 225,
   "metadata": {},
   "outputs": [
    {
     "name": "stdout",
     "output_type": "stream",
     "text": [
      "Sample t-statistic: 8.279786127159646\n",
      "Sample p-value: 9.880984919163893e-15\n"
     ]
    }
   ],
   "source": [
    "print(f\"Sample t-statistic: {welch_t(PG, SG)}\\nSample p-value: {p}\")"
   ]
  },
  {
   "cell_type": "code",
   "execution_count": 226,
   "metadata": {},
   "outputs": [
    {
     "name": "stdout",
     "output_type": "stream",
     "text": [
      "Our Welch's t-statistic of 8.279786127159646 is greater than our t critical value of 1.6527423311044684\n",
      "thus we can reject our null hypothesis that there is no difference in free throw percentage between \n",
      "point guards and shooting guards\n"
     ]
    }
   ],
   "source": [
    "if t_statistic > t_crit:\n",
    "    print(\"Our Welch's t-statistic of {} is greater than our t critical value of {}\\nthus we can reject our null hypothesis that there is no difference in free throw percentage between \\npoint guards and shooting guards\".format(t_statistic, t_crit))"
   ]
  },
  {
   "cell_type": "markdown",
   "metadata": {},
   "source": [
    "# Conclusion"
   ]
  },
  {
   "cell_type": "markdown",
   "metadata": {},
   "source": [
    "As such, we accept our null hypothesis that point guards have a better shooting percentage, on average, than shooting guards\n",
    "Following our conclusion, we can recommend to NBA teams that, on average, if they pick a point guard over a shooting guard they will benefit from a higher free throw shooting percentage"
   ]
  },
  {
   "cell_type": "code",
   "execution_count": null,
   "metadata": {},
   "outputs": [],
   "source": []
  }
 ],
 "metadata": {
  "kernelspec": {
   "display_name": "Python 3",
   "language": "python",
   "name": "python3"
  },
  "language_info": {
   "codemirror_mode": {
    "name": "ipython",
    "version": 3
   },
   "file_extension": ".py",
   "mimetype": "text/x-python",
   "name": "python",
   "nbconvert_exporter": "python",
   "pygments_lexer": "ipython3",
   "version": "3.6.8"
  },
  "toc": {
   "base_numbering": 1,
   "nav_menu": {},
   "number_sections": true,
   "sideBar": true,
   "skip_h1_title": false,
   "title_cell": "Table of Contents",
   "title_sidebar": "Contents",
   "toc_cell": false,
   "toc_position": {},
   "toc_section_display": true,
   "toc_window_display": false
  },
  "varInspector": {
   "cols": {
    "lenName": 16,
    "lenType": 16,
    "lenVar": 40
   },
   "kernels_config": {
    "python": {
     "delete_cmd_postfix": "",
     "delete_cmd_prefix": "del ",
     "library": "var_list.py",
     "varRefreshCmd": "print(var_dic_list())"
    },
    "r": {
     "delete_cmd_postfix": ") ",
     "delete_cmd_prefix": "rm(",
     "library": "var_list.r",
     "varRefreshCmd": "cat(var_dic_list()) "
    }
   },
   "types_to_exclude": [
    "module",
    "function",
    "builtin_function_or_method",
    "instance",
    "_Feature"
   ],
   "window_display": false
  }
 },
 "nbformat": 4,
 "nbformat_minor": 2
}
