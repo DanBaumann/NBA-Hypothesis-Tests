{
 "cells": [
  {
   "cell_type": "markdown",
   "metadata": {},
   "source": [
    "# Hypothesis 2"
   ]
  },
  {
   "cell_type": "code",
   "execution_count": 288,
   "metadata": {},
   "outputs": [
    {
     "name": "stdout",
     "output_type": "stream",
     "text": [
      "The autoreload extension is already loaded. To reload it, use:\n",
      "  %reload_ext autoreload\n"
     ]
    }
   ],
   "source": [
    "# Importing the necessary libraries\n",
    "import pandas as pd\n",
    "import matplotlib.pyplot as plt\n",
    "import seaborn as sns\n",
    "import scipy.stats as st\n",
    "import numpy as np\n",
    "from statsmodels.formula.api import ols\n",
    "import statsmodels.api as sm\n",
    "import HT\n",
    "\n",
    "%load_ext autoreload\n",
    "%autoreload 2"
   ]
  },
  {
   "cell_type": "markdown",
   "metadata": {},
   "source": [
    "Using ANOVA as another method of hypothesis testing"
   ]
  },
  {
   "cell_type": "code",
   "execution_count": 154,
   "metadata": {},
   "outputs": [
    {
     "data": {
      "text/html": [
       "<div>\n",
       "<style scoped>\n",
       "    .dataframe tbody tr th:only-of-type {\n",
       "        vertical-align: middle;\n",
       "    }\n",
       "\n",
       "    .dataframe tbody tr th {\n",
       "        vertical-align: top;\n",
       "    }\n",
       "\n",
       "    .dataframe thead th {\n",
       "        text-align: right;\n",
       "    }\n",
       "</style>\n",
       "<table border=\"1\" class=\"dataframe\">\n",
       "  <thead>\n",
       "    <tr style=\"text-align: right;\">\n",
       "      <th></th>\n",
       "      <th>Player</th>\n",
       "      <th>FG%</th>\n",
       "      <th>3P%</th>\n",
       "      <th>2P%</th>\n",
       "      <th>FT%</th>\n",
       "      <th>ORB/G</th>\n",
       "      <th>DRB/G</th>\n",
       "      <th>TRB/G</th>\n",
       "      <th>AST/G</th>\n",
       "      <th>STL/G</th>\n",
       "      <th>BLK/G</th>\n",
       "      <th>TOV/G</th>\n",
       "      <th>PF/G</th>\n",
       "      <th>PTS/G</th>\n",
       "      <th>POS</th>\n",
       "      <th>height</th>\n",
       "      <th>weight</th>\n",
       "    </tr>\n",
       "  </thead>\n",
       "  <tbody>\n",
       "    <tr>\n",
       "      <td>0</td>\n",
       "      <td>A.C. Green</td>\n",
       "      <td>0.442</td>\n",
       "      <td>0.062</td>\n",
       "      <td>0.448</td>\n",
       "      <td>0.675</td>\n",
       "      <td>1.890</td>\n",
       "      <td>3.722</td>\n",
       "      <td>5.615</td>\n",
       "      <td>0.865</td>\n",
       "      <td>0.633</td>\n",
       "      <td>0.202</td>\n",
       "      <td>0.602</td>\n",
       "      <td>1.572</td>\n",
       "      <td>5.440</td>\n",
       "      <td>PF</td>\n",
       "      <td>203.0</td>\n",
       "      <td>106.0</td>\n",
       "    </tr>\n",
       "    <tr>\n",
       "      <td>1</td>\n",
       "      <td>A.J. Guyton</td>\n",
       "      <td>0.384</td>\n",
       "      <td>0.382</td>\n",
       "      <td>0.381</td>\n",
       "      <td>0.824</td>\n",
       "      <td>0.285</td>\n",
       "      <td>0.750</td>\n",
       "      <td>1.035</td>\n",
       "      <td>1.870</td>\n",
       "      <td>0.245</td>\n",
       "      <td>0.155</td>\n",
       "      <td>0.775</td>\n",
       "      <td>0.785</td>\n",
       "      <td>5.710</td>\n",
       "      <td>PG</td>\n",
       "      <td>208.0</td>\n",
       "      <td>99.0</td>\n",
       "    </tr>\n",
       "    <tr>\n",
       "      <td>2</td>\n",
       "      <td>A.J. Hammons</td>\n",
       "      <td>0.405</td>\n",
       "      <td>0.500</td>\n",
       "      <td>0.375</td>\n",
       "      <td>0.450</td>\n",
       "      <td>0.360</td>\n",
       "      <td>1.270</td>\n",
       "      <td>1.640</td>\n",
       "      <td>0.180</td>\n",
       "      <td>0.050</td>\n",
       "      <td>0.590</td>\n",
       "      <td>0.450</td>\n",
       "      <td>0.950</td>\n",
       "      <td>2.180</td>\n",
       "      <td>C</td>\n",
       "      <td>198.0</td>\n",
       "      <td>99.0</td>\n",
       "    </tr>\n",
       "    <tr>\n",
       "      <td>3</td>\n",
       "      <td>A.J. Price</td>\n",
       "      <td>0.373</td>\n",
       "      <td>0.273</td>\n",
       "      <td>0.447</td>\n",
       "      <td>0.632</td>\n",
       "      <td>0.251</td>\n",
       "      <td>1.093</td>\n",
       "      <td>1.344</td>\n",
       "      <td>1.971</td>\n",
       "      <td>0.401</td>\n",
       "      <td>0.021</td>\n",
       "      <td>0.753</td>\n",
       "      <td>0.735</td>\n",
       "      <td>5.578</td>\n",
       "      <td>PG</td>\n",
       "      <td>213.0</td>\n",
       "      <td>124.0</td>\n",
       "    </tr>\n",
       "    <tr>\n",
       "      <td>4</td>\n",
       "      <td>Aaron Brooks</td>\n",
       "      <td>0.410</td>\n",
       "      <td>0.359</td>\n",
       "      <td>0.444</td>\n",
       "      <td>0.838</td>\n",
       "      <td>0.403</td>\n",
       "      <td>1.268</td>\n",
       "      <td>1.671</td>\n",
       "      <td>3.174</td>\n",
       "      <td>0.591</td>\n",
       "      <td>0.134</td>\n",
       "      <td>1.582</td>\n",
       "      <td>1.932</td>\n",
       "      <td>9.604</td>\n",
       "      <td>PG</td>\n",
       "      <td>183.0</td>\n",
       "      <td>73.0</td>\n",
       "    </tr>\n",
       "  </tbody>\n",
       "</table>\n",
       "</div>"
      ],
      "text/plain": [
       "         Player    FG%    3P%    2P%    FT%  ORB/G  DRB/G  TRB/G  AST/G  \\\n",
       "0    A.C. Green  0.442  0.062  0.448  0.675  1.890  3.722  5.615  0.865   \n",
       "1   A.J. Guyton  0.384  0.382  0.381  0.824  0.285  0.750  1.035  1.870   \n",
       "2  A.J. Hammons  0.405  0.500  0.375  0.450  0.360  1.270  1.640  0.180   \n",
       "3    A.J. Price  0.373  0.273  0.447  0.632  0.251  1.093  1.344  1.971   \n",
       "4  Aaron Brooks  0.410  0.359  0.444  0.838  0.403  1.268  1.671  3.174   \n",
       "\n",
       "   STL/G  BLK/G  TOV/G   PF/G  PTS/G POS  height  weight  \n",
       "0  0.633  0.202  0.602  1.572  5.440  PF   203.0   106.0  \n",
       "1  0.245  0.155  0.775  0.785  5.710  PG   208.0    99.0  \n",
       "2  0.050  0.590  0.450  0.950  2.180   C   198.0    99.0  \n",
       "3  0.401  0.021  0.753  0.735  5.578  PG   213.0   124.0  \n",
       "4  0.591  0.134  1.582  1.932  9.604  PG   183.0    73.0  "
      ]
     },
     "execution_count": 154,
     "metadata": {},
     "output_type": "execute_result"
    }
   ],
   "source": [
    "data = pd.read_csv('final_df.csv', index_col = 0)\n",
    "data.head()"
   ]
  },
  {
   "cell_type": "markdown",
   "metadata": {},
   "source": [
    "Using ANOVA, we will be subsetting the data based on position, and use blocks per game as the dependent variable. With ANOVA, we can use a statistcal test which analyses the overall variance among the different positions "
   ]
  },
  {
   "cell_type": "code",
   "execution_count": 155,
   "metadata": {},
   "outputs": [
    {
     "data": {
      "text/plain": [
       "PG       358\n",
       "SG       349\n",
       "SF       310\n",
       "PF       297\n",
       "C        232\n",
       "SG-SF      4\n",
       "C-PF       4\n",
       "SG-PG      2\n",
       "PG-SG      1\n",
       "SF-PF      1\n",
       "Name: POS, dtype: int64"
      ]
     },
     "execution_count": 155,
     "metadata": {},
     "output_type": "execute_result"
    }
   ],
   "source": [
    "data.POS.value_counts()\n",
    "# As there are 12 players that have played in two positions, I will get rid of these players as they represent\n",
    "# a small proportion of the total players (< 0.01%)"
   ]
  },
  {
   "cell_type": "code",
   "execution_count": 156,
   "metadata": {},
   "outputs": [],
   "source": [
    "data = data.loc[:]"
   ]
  },
  {
   "cell_type": "code",
   "execution_count": 157,
   "metadata": {},
   "outputs": [
    {
     "data": {
      "text/html": [
       "<div>\n",
       "<style scoped>\n",
       "    .dataframe tbody tr th:only-of-type {\n",
       "        vertical-align: middle;\n",
       "    }\n",
       "\n",
       "    .dataframe tbody tr th {\n",
       "        vertical-align: top;\n",
       "    }\n",
       "\n",
       "    .dataframe thead th {\n",
       "        text-align: right;\n",
       "    }\n",
       "</style>\n",
       "<table border=\"1\" class=\"dataframe\">\n",
       "  <thead>\n",
       "    <tr style=\"text-align: right;\">\n",
       "      <th></th>\n",
       "      <th>Player</th>\n",
       "      <th>FG%</th>\n",
       "      <th>3P%</th>\n",
       "      <th>2P%</th>\n",
       "      <th>FT%</th>\n",
       "      <th>ORB/G</th>\n",
       "      <th>DRB/G</th>\n",
       "      <th>TRB/G</th>\n",
       "      <th>AST/G</th>\n",
       "      <th>STL/G</th>\n",
       "      <th>BLK/G</th>\n",
       "      <th>TOV/G</th>\n",
       "      <th>PF/G</th>\n",
       "      <th>PTS/G</th>\n",
       "      <th>POS</th>\n",
       "      <th>height</th>\n",
       "      <th>weight</th>\n",
       "    </tr>\n",
       "  </thead>\n",
       "  <tbody>\n",
       "    <tr>\n",
       "      <td>1</td>\n",
       "      <td>A.J. Guyton</td>\n",
       "      <td>0.384</td>\n",
       "      <td>0.382</td>\n",
       "      <td>0.381</td>\n",
       "      <td>0.824</td>\n",
       "      <td>0.285</td>\n",
       "      <td>0.750</td>\n",
       "      <td>1.035</td>\n",
       "      <td>1.870</td>\n",
       "      <td>0.245</td>\n",
       "      <td>0.155</td>\n",
       "      <td>0.775</td>\n",
       "      <td>0.785</td>\n",
       "      <td>5.710</td>\n",
       "      <td>PG</td>\n",
       "      <td>208.0</td>\n",
       "      <td>99.0</td>\n",
       "    </tr>\n",
       "    <tr>\n",
       "      <td>3</td>\n",
       "      <td>A.J. Price</td>\n",
       "      <td>0.373</td>\n",
       "      <td>0.273</td>\n",
       "      <td>0.447</td>\n",
       "      <td>0.632</td>\n",
       "      <td>0.251</td>\n",
       "      <td>1.093</td>\n",
       "      <td>1.344</td>\n",
       "      <td>1.971</td>\n",
       "      <td>0.401</td>\n",
       "      <td>0.021</td>\n",
       "      <td>0.753</td>\n",
       "      <td>0.735</td>\n",
       "      <td>5.578</td>\n",
       "      <td>PG</td>\n",
       "      <td>213.0</td>\n",
       "      <td>124.0</td>\n",
       "    </tr>\n",
       "  </tbody>\n",
       "</table>\n",
       "</div>"
      ],
      "text/plain": [
       "        Player    FG%    3P%    2P%    FT%  ORB/G  DRB/G  TRB/G  AST/G  STL/G  \\\n",
       "1  A.J. Guyton  0.384  0.382  0.381  0.824  0.285  0.750  1.035  1.870  0.245   \n",
       "3   A.J. Price  0.373  0.273  0.447  0.632  0.251  1.093  1.344  1.971  0.401   \n",
       "\n",
       "   BLK/G  TOV/G   PF/G  PTS/G POS  height  weight  \n",
       "1  0.155  0.775  0.785  5.710  PG   208.0    99.0  \n",
       "3  0.021  0.753  0.735  5.578  PG   213.0   124.0  "
      ]
     },
     "metadata": {},
     "output_type": "display_data"
    },
    {
     "data": {
      "text/html": [
       "<div>\n",
       "<style scoped>\n",
       "    .dataframe tbody tr th:only-of-type {\n",
       "        vertical-align: middle;\n",
       "    }\n",
       "\n",
       "    .dataframe tbody tr th {\n",
       "        vertical-align: top;\n",
       "    }\n",
       "\n",
       "    .dataframe thead th {\n",
       "        text-align: right;\n",
       "    }\n",
       "</style>\n",
       "<table border=\"1\" class=\"dataframe\">\n",
       "  <thead>\n",
       "    <tr style=\"text-align: right;\">\n",
       "      <th></th>\n",
       "      <th>Player</th>\n",
       "      <th>FG%</th>\n",
       "      <th>3P%</th>\n",
       "      <th>2P%</th>\n",
       "      <th>FT%</th>\n",
       "      <th>ORB/G</th>\n",
       "      <th>DRB/G</th>\n",
       "      <th>TRB/G</th>\n",
       "      <th>AST/G</th>\n",
       "      <th>STL/G</th>\n",
       "      <th>BLK/G</th>\n",
       "      <th>TOV/G</th>\n",
       "      <th>PF/G</th>\n",
       "      <th>PTS/G</th>\n",
       "      <th>POS</th>\n",
       "      <th>height</th>\n",
       "      <th>weight</th>\n",
       "    </tr>\n",
       "  </thead>\n",
       "  <tbody>\n",
       "    <tr>\n",
       "      <td>7</td>\n",
       "      <td>Aaron Harrison</td>\n",
       "      <td>0.132</td>\n",
       "      <td>0.150</td>\n",
       "      <td>0.111</td>\n",
       "      <td>0.458</td>\n",
       "      <td>0.095</td>\n",
       "      <td>0.56</td>\n",
       "      <td>0.655</td>\n",
       "      <td>0.350</td>\n",
       "      <td>0.145</td>\n",
       "      <td>0.000</td>\n",
       "      <td>0.095</td>\n",
       "      <td>0.440</td>\n",
       "      <td>0.530</td>\n",
       "      <td>SG</td>\n",
       "      <td>198.0</td>\n",
       "      <td>95.0</td>\n",
       "    </tr>\n",
       "    <tr>\n",
       "      <td>11</td>\n",
       "      <td>Adam Harrington</td>\n",
       "      <td>0.294</td>\n",
       "      <td>0.351</td>\n",
       "      <td>0.269</td>\n",
       "      <td>0.750</td>\n",
       "      <td>0.073</td>\n",
       "      <td>0.45</td>\n",
       "      <td>0.523</td>\n",
       "      <td>0.817</td>\n",
       "      <td>0.120</td>\n",
       "      <td>0.043</td>\n",
       "      <td>0.087</td>\n",
       "      <td>0.523</td>\n",
       "      <td>1.867</td>\n",
       "      <td>SG</td>\n",
       "      <td>196.0</td>\n",
       "      <td>90.0</td>\n",
       "    </tr>\n",
       "  </tbody>\n",
       "</table>\n",
       "</div>"
      ],
      "text/plain": [
       "             Player    FG%    3P%    2P%    FT%  ORB/G  DRB/G  TRB/G  AST/G  \\\n",
       "7    Aaron Harrison  0.132  0.150  0.111  0.458  0.095   0.56  0.655  0.350   \n",
       "11  Adam Harrington  0.294  0.351  0.269  0.750  0.073   0.45  0.523  0.817   \n",
       "\n",
       "    STL/G  BLK/G  TOV/G   PF/G  PTS/G POS  height  weight  \n",
       "7   0.145  0.000  0.095  0.440  0.530  SG   198.0    95.0  \n",
       "11  0.120  0.043  0.087  0.523  1.867  SG   196.0    90.0  "
      ]
     },
     "metadata": {},
     "output_type": "display_data"
    },
    {
     "data": {
      "text/html": [
       "<div>\n",
       "<style scoped>\n",
       "    .dataframe tbody tr th:only-of-type {\n",
       "        vertical-align: middle;\n",
       "    }\n",
       "\n",
       "    .dataframe tbody tr th {\n",
       "        vertical-align: top;\n",
       "    }\n",
       "\n",
       "    .dataframe thead th {\n",
       "        text-align: right;\n",
       "    }\n",
       "</style>\n",
       "<table border=\"1\" class=\"dataframe\">\n",
       "  <thead>\n",
       "    <tr style=\"text-align: right;\">\n",
       "      <th></th>\n",
       "      <th>Player</th>\n",
       "      <th>FG%</th>\n",
       "      <th>3P%</th>\n",
       "      <th>2P%</th>\n",
       "      <th>FT%</th>\n",
       "      <th>ORB/G</th>\n",
       "      <th>DRB/G</th>\n",
       "      <th>TRB/G</th>\n",
       "      <th>AST/G</th>\n",
       "      <th>STL/G</th>\n",
       "      <th>BLK/G</th>\n",
       "      <th>TOV/G</th>\n",
       "      <th>PF/G</th>\n",
       "      <th>PTS/G</th>\n",
       "      <th>POS</th>\n",
       "      <th>height</th>\n",
       "      <th>weight</th>\n",
       "    </tr>\n",
       "  </thead>\n",
       "  <tbody>\n",
       "    <tr>\n",
       "      <td>16</td>\n",
       "      <td>Adonis Thomas</td>\n",
       "      <td>0.381</td>\n",
       "      <td>0.100</td>\n",
       "      <td>0.528</td>\n",
       "      <td>1.000</td>\n",
       "      <td>0.000</td>\n",
       "      <td>0.625</td>\n",
       "      <td>0.625</td>\n",
       "      <td>0.500</td>\n",
       "      <td>0.000</td>\n",
       "      <td>0.000</td>\n",
       "      <td>0.085</td>\n",
       "      <td>0.750</td>\n",
       "      <td>2.040</td>\n",
       "      <td>SF</td>\n",
       "      <td>201.0</td>\n",
       "      <td>90.0</td>\n",
       "    </tr>\n",
       "    <tr>\n",
       "      <td>23</td>\n",
       "      <td>Al-Farouq Aminu</td>\n",
       "      <td>0.425</td>\n",
       "      <td>0.291</td>\n",
       "      <td>0.464</td>\n",
       "      <td>0.726</td>\n",
       "      <td>1.401</td>\n",
       "      <td>4.309</td>\n",
       "      <td>5.710</td>\n",
       "      <td>1.231</td>\n",
       "      <td>0.951</td>\n",
       "      <td>0.599</td>\n",
       "      <td>1.289</td>\n",
       "      <td>1.859</td>\n",
       "      <td>7.237</td>\n",
       "      <td>SF</td>\n",
       "      <td>206.0</td>\n",
       "      <td>99.0</td>\n",
       "    </tr>\n",
       "  </tbody>\n",
       "</table>\n",
       "</div>"
      ],
      "text/plain": [
       "             Player    FG%    3P%    2P%    FT%  ORB/G  DRB/G  TRB/G  AST/G  \\\n",
       "16    Adonis Thomas  0.381  0.100  0.528  1.000  0.000  0.625  0.625  0.500   \n",
       "23  Al-Farouq Aminu  0.425  0.291  0.464  0.726  1.401  4.309  5.710  1.231   \n",
       "\n",
       "    STL/G  BLK/G  TOV/G   PF/G  PTS/G POS  height  weight  \n",
       "16  0.000  0.000  0.085  0.750  2.040  SF   201.0    90.0  \n",
       "23  0.951  0.599  1.289  1.859  7.237  SF   206.0    99.0  "
      ]
     },
     "metadata": {},
     "output_type": "display_data"
    },
    {
     "data": {
      "text/html": [
       "<div>\n",
       "<style scoped>\n",
       "    .dataframe tbody tr th:only-of-type {\n",
       "        vertical-align: middle;\n",
       "    }\n",
       "\n",
       "    .dataframe tbody tr th {\n",
       "        vertical-align: top;\n",
       "    }\n",
       "\n",
       "    .dataframe thead th {\n",
       "        text-align: right;\n",
       "    }\n",
       "</style>\n",
       "<table border=\"1\" class=\"dataframe\">\n",
       "  <thead>\n",
       "    <tr style=\"text-align: right;\">\n",
       "      <th></th>\n",
       "      <th>Player</th>\n",
       "      <th>FG%</th>\n",
       "      <th>3P%</th>\n",
       "      <th>2P%</th>\n",
       "      <th>FT%</th>\n",
       "      <th>ORB/G</th>\n",
       "      <th>DRB/G</th>\n",
       "      <th>TRB/G</th>\n",
       "      <th>AST/G</th>\n",
       "      <th>STL/G</th>\n",
       "      <th>BLK/G</th>\n",
       "      <th>TOV/G</th>\n",
       "      <th>PF/G</th>\n",
       "      <th>PTS/G</th>\n",
       "      <th>POS</th>\n",
       "      <th>height</th>\n",
       "      <th>weight</th>\n",
       "    </tr>\n",
       "  </thead>\n",
       "  <tbody>\n",
       "    <tr>\n",
       "      <td>0</td>\n",
       "      <td>A.C. Green</td>\n",
       "      <td>0.442</td>\n",
       "      <td>0.062</td>\n",
       "      <td>0.448</td>\n",
       "      <td>0.675</td>\n",
       "      <td>1.890</td>\n",
       "      <td>3.722</td>\n",
       "      <td>5.615</td>\n",
       "      <td>0.865</td>\n",
       "      <td>0.633</td>\n",
       "      <td>0.202</td>\n",
       "      <td>0.602</td>\n",
       "      <td>1.572</td>\n",
       "      <td>5.440</td>\n",
       "      <td>PF</td>\n",
       "      <td>203.0</td>\n",
       "      <td>106.0</td>\n",
       "    </tr>\n",
       "    <tr>\n",
       "      <td>5</td>\n",
       "      <td>Aaron Gordon</td>\n",
       "      <td>0.458</td>\n",
       "      <td>0.285</td>\n",
       "      <td>0.520</td>\n",
       "      <td>0.703</td>\n",
       "      <td>1.467</td>\n",
       "      <td>3.587</td>\n",
       "      <td>5.053</td>\n",
       "      <td>1.407</td>\n",
       "      <td>0.670</td>\n",
       "      <td>0.560</td>\n",
       "      <td>0.923</td>\n",
       "      <td>1.960</td>\n",
       "      <td>9.043</td>\n",
       "      <td>PF</td>\n",
       "      <td>206.0</td>\n",
       "      <td>99.0</td>\n",
       "    </tr>\n",
       "  </tbody>\n",
       "</table>\n",
       "</div>"
      ],
      "text/plain": [
       "         Player    FG%    3P%    2P%    FT%  ORB/G  DRB/G  TRB/G  AST/G  \\\n",
       "0    A.C. Green  0.442  0.062  0.448  0.675  1.890  3.722  5.615  0.865   \n",
       "5  Aaron Gordon  0.458  0.285  0.520  0.703  1.467  3.587  5.053  1.407   \n",
       "\n",
       "   STL/G  BLK/G  TOV/G   PF/G  PTS/G POS  height  weight  \n",
       "0  0.633  0.202  0.602  1.572  5.440  PF   203.0   106.0  \n",
       "5  0.670  0.560  0.923  1.960  9.043  PF   206.0    99.0  "
      ]
     },
     "metadata": {},
     "output_type": "display_data"
    },
    {
     "data": {
      "text/html": [
       "<div>\n",
       "<style scoped>\n",
       "    .dataframe tbody tr th:only-of-type {\n",
       "        vertical-align: middle;\n",
       "    }\n",
       "\n",
       "    .dataframe tbody tr th {\n",
       "        vertical-align: top;\n",
       "    }\n",
       "\n",
       "    .dataframe thead th {\n",
       "        text-align: right;\n",
       "    }\n",
       "</style>\n",
       "<table border=\"1\" class=\"dataframe\">\n",
       "  <thead>\n",
       "    <tr style=\"text-align: right;\">\n",
       "      <th></th>\n",
       "      <th>Player</th>\n",
       "      <th>FG%</th>\n",
       "      <th>3P%</th>\n",
       "      <th>2P%</th>\n",
       "      <th>FT%</th>\n",
       "      <th>ORB/G</th>\n",
       "      <th>DRB/G</th>\n",
       "      <th>TRB/G</th>\n",
       "      <th>AST/G</th>\n",
       "      <th>STL/G</th>\n",
       "      <th>BLK/G</th>\n",
       "      <th>TOV/G</th>\n",
       "      <th>PF/G</th>\n",
       "      <th>PTS/G</th>\n",
       "      <th>POS</th>\n",
       "      <th>height</th>\n",
       "      <th>weight</th>\n",
       "    </tr>\n",
       "  </thead>\n",
       "  <tbody>\n",
       "    <tr>\n",
       "      <td>2</td>\n",
       "      <td>A.J. Hammons</td>\n",
       "      <td>0.405</td>\n",
       "      <td>0.5</td>\n",
       "      <td>0.375</td>\n",
       "      <td>0.450</td>\n",
       "      <td>0.360</td>\n",
       "      <td>1.27</td>\n",
       "      <td>1.64</td>\n",
       "      <td>0.180</td>\n",
       "      <td>0.05</td>\n",
       "      <td>0.59</td>\n",
       "      <td>0.450</td>\n",
       "      <td>0.950</td>\n",
       "      <td>2.180</td>\n",
       "      <td>C</td>\n",
       "      <td>198.0</td>\n",
       "      <td>99.0</td>\n",
       "    </tr>\n",
       "    <tr>\n",
       "      <td>6</td>\n",
       "      <td>Aaron Gray</td>\n",
       "      <td>0.466</td>\n",
       "      <td>0.0</td>\n",
       "      <td>0.471</td>\n",
       "      <td>0.562</td>\n",
       "      <td>1.242</td>\n",
       "      <td>1.96</td>\n",
       "      <td>3.20</td>\n",
       "      <td>0.665</td>\n",
       "      <td>0.29</td>\n",
       "      <td>0.26</td>\n",
       "      <td>0.825</td>\n",
       "      <td>1.948</td>\n",
       "      <td>2.845</td>\n",
       "      <td>C</td>\n",
       "      <td>213.0</td>\n",
       "      <td>122.0</td>\n",
       "    </tr>\n",
       "  </tbody>\n",
       "</table>\n",
       "</div>"
      ],
      "text/plain": [
       "         Player    FG%  3P%    2P%    FT%  ORB/G  DRB/G  TRB/G  AST/G  STL/G  \\\n",
       "2  A.J. Hammons  0.405  0.5  0.375  0.450  0.360   1.27   1.64  0.180   0.05   \n",
       "6    Aaron Gray  0.466  0.0  0.471  0.562  1.242   1.96   3.20  0.665   0.29   \n",
       "\n",
       "   BLK/G  TOV/G   PF/G  PTS/G POS  height  weight  \n",
       "2   0.59  0.450  0.950  2.180   C   198.0    99.0  \n",
       "6   0.26  0.825  1.948  2.845   C   213.0   122.0  "
      ]
     },
     "metadata": {},
     "output_type": "display_data"
    }
   ],
   "source": [
    "PG_subset = data.loc[data['POS'] == 'PG']\n",
    "display(PG_subset.head(2))\n",
    "SG_subset = data.loc[data['POS'] == 'SG']\n",
    "display(SG_subset.head(2))\n",
    "SF_subset = data.loc[data['POS'] == 'SF']\n",
    "display(SF_subset.head(2))\n",
    "PF_subset = data.loc[data['POS'] == 'PF']\n",
    "display(PF_subset.head(2))\n",
    "C_subset = data.loc[data['POS'] == 'C']\n",
    "display(C_subset.head(2))"
   ]
  },
  {
   "cell_type": "code",
   "execution_count": 158,
   "metadata": {},
   "outputs": [],
   "source": [
    "column_names = ['POS', 'BLK/G']\n",
    "def POS_BLK_df(data):\n",
    "    new_df = data.loc[:,column_names]\n",
    "    return new_df"
   ]
  },
  {
   "cell_type": "code",
   "execution_count": 159,
   "metadata": {},
   "outputs": [],
   "source": [
    "PG_BLK = POS_BLK_df(PG_subset)\n",
    "SG_BLK = POS_BLK_df(SG_subset)\n",
    "SF_BLK = POS_BLK_df(SF_subset)\n",
    "PF_BLK = POS_BLK_df(PF_subset)\n",
    "C_BLK = POS_BLK_df(C_subset)"
   ]
  },
  {
   "cell_type": "code",
   "execution_count": 160,
   "metadata": {},
   "outputs": [
    {
     "name": "stdout",
     "output_type": "stream",
     "text": [
      "(1546, 2)\n"
     ]
    },
    {
     "data": {
      "text/html": [
       "<div>\n",
       "<style scoped>\n",
       "    .dataframe tbody tr th:only-of-type {\n",
       "        vertical-align: middle;\n",
       "    }\n",
       "\n",
       "    .dataframe tbody tr th {\n",
       "        vertical-align: top;\n",
       "    }\n",
       "\n",
       "    .dataframe thead th {\n",
       "        text-align: right;\n",
       "    }\n",
       "</style>\n",
       "<table border=\"1\" class=\"dataframe\">\n",
       "  <thead>\n",
       "    <tr style=\"text-align: right;\">\n",
       "      <th></th>\n",
       "      <th>POS</th>\n",
       "      <th>BLK/G</th>\n",
       "    </tr>\n",
       "  </thead>\n",
       "  <tbody>\n",
       "    <tr>\n",
       "      <td>0</td>\n",
       "      <td>PG</td>\n",
       "      <td>0.155</td>\n",
       "    </tr>\n",
       "    <tr>\n",
       "      <td>1</td>\n",
       "      <td>PG</td>\n",
       "      <td>0.021</td>\n",
       "    </tr>\n",
       "    <tr>\n",
       "      <td>2</td>\n",
       "      <td>PG</td>\n",
       "      <td>0.134</td>\n",
       "    </tr>\n",
       "    <tr>\n",
       "      <td>3</td>\n",
       "      <td>PG</td>\n",
       "      <td>0.022</td>\n",
       "    </tr>\n",
       "    <tr>\n",
       "      <td>4</td>\n",
       "      <td>PG</td>\n",
       "      <td>0.000</td>\n",
       "    </tr>\n",
       "  </tbody>\n",
       "</table>\n",
       "</div>"
      ],
      "text/plain": [
       "  POS  BLK/G\n",
       "0  PG  0.155\n",
       "1  PG  0.021\n",
       "2  PG  0.134\n",
       "3  PG  0.022\n",
       "4  PG  0.000"
      ]
     },
     "execution_count": 160,
     "metadata": {},
     "output_type": "execute_result"
    }
   ],
   "source": [
    "list_of_dataframes = [PG_BLK, SG_BLK, SF_BLK, PF_BLK, C_BLK]\n",
    "anova_test = pd.concat(list_of_dataframes)\n",
    "print(anova_test.shape)\n",
    "anova_test.reset_index(inplace = True)\n",
    "anova_test.drop('index', axis = 1, inplace = True)\n",
    "anova_test.head()"
   ]
  },
  {
   "cell_type": "code",
   "execution_count": 161,
   "metadata": {},
   "outputs": [
    {
     "name": "stdout",
     "output_type": "stream",
     "text": [
      "              sum_sq      df           F         PR(>F)\n",
      "C(POS)     79.314438     4.0  196.649897  2.608512e-136\n",
      "Residual  155.382167  1541.0         NaN            NaN\n"
     ]
    }
   ],
   "source": [
    "formula = \"BLK ~ C(POS)\"\n",
    "anova_test['BLK'] = anova_test['BLK/G']\n",
    "lm = ols(formula, anova_test).fit()\n",
    "table = sm.stats.anova_lm(lm, typ = 2)\n",
    "print(table)"
   ]
  },
  {
   "cell_type": "markdown",
   "metadata": {},
   "source": [
    "Can see a very significant effect of position on blocks per game. Our F-statistic is 196\n",
    "For a more meaningful analysis we can use Welch's t-test in pairwise comparisons between subsets.\n",
    "We may discover more drastic differences in t-statistics between certain groups "
   ]
  },
  {
   "cell_type": "markdown",
   "metadata": {},
   "source": [
    "# Pairwise Comparisons "
   ]
  },
  {
   "cell_type": "markdown",
   "metadata": {},
   "source": [
    "## Comparing Point Guards and Centers"
   ]
  },
  {
   "cell_type": "code",
   "execution_count": 206,
   "metadata": {},
   "outputs": [
    {
     "data": {
      "text/html": [
       "<div>\n",
       "<style scoped>\n",
       "    .dataframe tbody tr th:only-of-type {\n",
       "        vertical-align: middle;\n",
       "    }\n",
       "\n",
       "    .dataframe tbody tr th {\n",
       "        vertical-align: top;\n",
       "    }\n",
       "\n",
       "    .dataframe thead th {\n",
       "        text-align: right;\n",
       "    }\n",
       "</style>\n",
       "<table border=\"1\" class=\"dataframe\">\n",
       "  <thead>\n",
       "    <tr style=\"text-align: right;\">\n",
       "      <th></th>\n",
       "      <th>POS</th>\n",
       "      <th>BLK/G</th>\n",
       "      <th>B</th>\n",
       "    </tr>\n",
       "  </thead>\n",
       "  <tbody>\n",
       "    <tr>\n",
       "      <td>1</td>\n",
       "      <td>PG</td>\n",
       "      <td>0.155</td>\n",
       "      <td>0.155</td>\n",
       "    </tr>\n",
       "    <tr>\n",
       "      <td>3</td>\n",
       "      <td>PG</td>\n",
       "      <td>0.021</td>\n",
       "      <td>0.021</td>\n",
       "    </tr>\n",
       "    <tr>\n",
       "      <td>4</td>\n",
       "      <td>PG</td>\n",
       "      <td>0.134</td>\n",
       "      <td>0.134</td>\n",
       "    </tr>\n",
       "    <tr>\n",
       "      <td>10</td>\n",
       "      <td>PG</td>\n",
       "      <td>0.022</td>\n",
       "      <td>0.022</td>\n",
       "    </tr>\n",
       "    <tr>\n",
       "      <td>15</td>\n",
       "      <td>PG</td>\n",
       "      <td>0.000</td>\n",
       "      <td>0.000</td>\n",
       "    </tr>\n",
       "  </tbody>\n",
       "</table>\n",
       "</div>"
      ],
      "text/plain": [
       "   POS  BLK/G      B\n",
       "1   PG  0.155  0.155\n",
       "3   PG  0.021  0.021\n",
       "4   PG  0.134  0.134\n",
       "10  PG  0.022  0.022\n",
       "15  PG  0.000  0.000"
      ]
     },
     "metadata": {},
     "output_type": "display_data"
    },
    {
     "data": {
      "text/html": [
       "<div>\n",
       "<style scoped>\n",
       "    .dataframe tbody tr th:only-of-type {\n",
       "        vertical-align: middle;\n",
       "    }\n",
       "\n",
       "    .dataframe tbody tr th {\n",
       "        vertical-align: top;\n",
       "    }\n",
       "\n",
       "    .dataframe thead th {\n",
       "        text-align: right;\n",
       "    }\n",
       "</style>\n",
       "<table border=\"1\" class=\"dataframe\">\n",
       "  <thead>\n",
       "    <tr style=\"text-align: right;\">\n",
       "      <th></th>\n",
       "      <th>POS</th>\n",
       "      <th>BLK/G</th>\n",
       "    </tr>\n",
       "  </thead>\n",
       "  <tbody>\n",
       "    <tr>\n",
       "      <td>2</td>\n",
       "      <td>C</td>\n",
       "      <td>0.590</td>\n",
       "    </tr>\n",
       "    <tr>\n",
       "      <td>6</td>\n",
       "      <td>C</td>\n",
       "      <td>0.260</td>\n",
       "    </tr>\n",
       "    <tr>\n",
       "      <td>14</td>\n",
       "      <td>C</td>\n",
       "      <td>1.725</td>\n",
       "    </tr>\n",
       "    <tr>\n",
       "      <td>20</td>\n",
       "      <td>C</td>\n",
       "      <td>1.241</td>\n",
       "    </tr>\n",
       "    <tr>\n",
       "      <td>26</td>\n",
       "      <td>C</td>\n",
       "      <td>0.680</td>\n",
       "    </tr>\n",
       "  </tbody>\n",
       "</table>\n",
       "</div>"
      ],
      "text/plain": [
       "   POS  BLK/G\n",
       "2    C  0.590\n",
       "6    C  0.260\n",
       "14   C  1.725\n",
       "20   C  1.241\n",
       "26   C  0.680"
      ]
     },
     "metadata": {},
     "output_type": "display_data"
    }
   ],
   "source": [
    "\n",
    "PG_BLK['B'] = PG_BLK['BLK/G']\n",
    "display(PG_BLK.head(), C_BLK.head())"
   ]
  },
  {
   "cell_type": "code",
   "execution_count": 195,
   "metadata": {},
   "outputs": [
    {
     "data": {
      "text/plain": [
       "<function HT.CLT.get_sample(data, n)>"
      ]
     },
     "execution_count": 195,
     "metadata": {},
     "output_type": "execute_result"
    }
   ],
   "source": [
    "# PG_BLK_sample = HT.CLT().get_sample(PG_BLK.B, n = 30)\n",
    "HT.CLT.get_sample"
   ]
  },
  {
   "cell_type": "code",
   "execution_count": 226,
   "metadata": {},
   "outputs": [
    {
     "data": {
      "text/plain": [
       "['CLT',\n",
       " 'Welchs_Test',\n",
       " '__builtins__',\n",
       " '__cached__',\n",
       " '__doc__',\n",
       " '__file__',\n",
       " '__loader__',\n",
       " '__name__',\n",
       " '__package__',\n",
       " '__spec__',\n",
       " 'hypothesis_testing',\n",
       " 'math',\n",
       " 'np',\n",
       " 'pd',\n",
       " 'stats']"
      ]
     },
     "execution_count": 226,
     "metadata": {},
     "output_type": "execute_result"
    }
   ],
   "source": [
    "from HT import CLT\n",
    "%reload_ext autoreload\n",
    "dir(HT)"
   ]
  },
  {
   "cell_type": "code",
   "execution_count": 214,
   "metadata": {},
   "outputs": [],
   "source": [
    "# PG_BLK_get_sample = HT.CLT.get_sample(PG_BLK.B, 30)\n",
    "# PG_BLK_sample_mean = HT.CLT.get_sample_mean(PG_BLK_get_sample)\n",
    "PG_BLK_sample_distribution = HT.CLT.create_sample_distribution(PG_BLK.B, dist_size = 100, n = 30)"
   ]
  },
  {
   "cell_type": "code",
   "execution_count": 285,
   "metadata": {},
   "outputs": [
    {
     "data": {
      "text/plain": [
       "<matplotlib.legend.Legend at 0x1a1c4582e8>"
      ]
     },
     "execution_count": 285,
     "metadata": {},
     "output_type": "execute_result"
    },
    {
     "data": {
      "image/png": "[encoded data removed]",
      "text/plain": [
       "<Figure size 1080x576 with 1 Axes>"
      ]
     },
     "metadata": {
      "needs_background": "light"
     },
     "output_type": "display_data"
    }
   ],
   "source": [
    "plt.figure(figsize = (15,8))\n",
    "sns.distplot(PG_BLK_sample_distribution, hist = True, hist_kws = {\n",
    "                                                \"linewidth\": 2,\n",
    "                                                \"edgecolor\": 'red',\n",
    "                                                \"alpha\": 0.5,\n",
    "                                                \"color\": \"w\",\n",
    "                                                \"label\": \"Point Guards Sample Distribution\"})\n",
    "plt.xlabel(\"Average Blocks per Game\")\n",
    "plt.title(\"Point Guards Blocks per Game\")\n",
    "plt.legend()"
   ]
  },
  {
   "cell_type": "code",
   "execution_count": 266,
   "metadata": {},
   "outputs": [],
   "source": [
    "from HT import Normal_Test\n",
    "%reload_ext autoreload\n",
    "# test = HT.Normal_Test.normality_test(name = 'Point Guards', data = PG_BLK_sample_distribution)"
   ]
  },
  {
   "cell_type": "code",
   "execution_count": 268,
   "metadata": {},
   "outputs": [
    {
     "name": "stdout",
     "output_type": "stream",
     "text": [
      "Results for Point Guards data: \n",
      "t-statistic: 4.1341016693809465 \n",
      "p-value: 0.12655847373006807\n",
      "Cannot reject the null hypothesis that this distribution is normal\n"
     ]
    }
   ],
   "source": [
    "test = HT.Normal_Test.normality_test('Point Guards', PG_BLK_sample_distribution)"
   ]
  },
  {
   "cell_type": "code",
   "execution_count": 286,
   "metadata": {},
   "outputs": [
    {
     "name": "stdout",
     "output_type": "stream",
     "text": [
      "Results for Centers data: \n",
      "t-statistic: 0.187262246568246 \n",
      "p-value: 0.9106186062953395\n",
      "Cannot reject the null hypothesis that this distribution is normal\n"
     ]
    },
    {
     "data": {
      "image/png": "[encoded data removed]",
      "text/plain": [
       "<Figure size 1080x576 with 1 Axes>"
      ]
     },
     "metadata": {
      "needs_background": "light"
     },
     "output_type": "display_data"
    }
   ],
   "source": [
    "C_BLK_sample_distribution = HT.CLT.create_sample_distribution(C_BLK['BLK/G'], dist_size = 100, n = 30)\n",
    "plt.figure(figsize = (15,8))\n",
    "sns.distplot(C_BLK_sample_distribution, hist = True, hist_kws = {\n",
    "                                                \"linewidth\": 2,\n",
    "                                                \"edgecolor\": 'red',\n",
    "                                                \"alpha\": 0.5,\n",
    "                                                \"color\": \"w\",\n",
    "                                                \"label\": \"Centers Sample Distribution\"})\n",
    "plt.xlabel(\"Average Blocks per Game\")\n",
    "plt.title(\"Centers Blocks per Game\")\n",
    "plt.legend()\n",
    "test = HT.Normal_Test.normality_test('Centers', C_BLK_sample_distribution)"
   ]
  },
  {
   "cell_type": "markdown",
   "metadata": {},
   "source": [
    "## Using Welch's t-test to compare Point Guards and Centers"
   ]
  },
  {
   "cell_type": "code",
   "execution_count": 295,
   "metadata": {},
   "outputs": [
    {
     "data": {
      "text/plain": [
       "77.10336097628503"
      ]
     },
     "execution_count": 295,
     "metadata": {},
     "output_type": "execute_result"
    }
   ],
   "source": [
    "from HT import Welchs_Test\n",
    "t_stat = HT.Welchs_Test.welch_t(PG_BLK_sample_distribution, C_BLK_sample_distribution)\n",
    "t_stat"
   ]
  },
  {
   "cell_type": "code",
   "execution_count": 297,
   "metadata": {},
   "outputs": [],
   "source": [
    "from HT import Welchs_Test\n",
    "%reload_ext autoreload\n",
    "a = HT.Welchs_Test.welch_df(PG_BLK_sample_distribution, C_BLK_sample_distribution)\n",
    "a"
   ]
  },
  {
   "cell_type": "code",
   "execution_count": 300,
   "metadata": {},
   "outputs": [
    {
     "data": {
      "text/plain": [
       "0.0"
      ]
     },
     "execution_count": 300,
     "metadata": {},
     "output_type": "execute_result"
    }
   ],
   "source": [
    "p_val = HT.Welchs_Test.p_value(PG_BLK_sample_distribution, C_BLK_sample_distribution)\n",
    "p_val"
   ]
  },
  {
   "cell_type": "code",
   "execution_count": 303,
   "metadata": {},
   "outputs": [
    {
     "data": {
      "text/plain": [
       "'Reject the null hypothesis. Accept the alternative hypothesis'"
      ]
     },
     "execution_count": 303,
     "metadata": {},
     "output_type": "execute_result"
    }
   ],
   "source": [
    "from HT import hypothesis_testing\n",
    "alpha = 0.05\n",
    "HT.hypothesis_testing.compare_pval_alpha(p_val = p_val, alpha = alpha)"
   ]
  },
  {
   "cell_type": "code",
   "execution_count": null,
   "metadata": {},
   "outputs": [],
   "source": []
  }
 ],
 "metadata": {
  "kernelspec": {
   "display_name": "Python 3",
   "language": "python",
   "name": "python3"
  },
  "language_info": {
   "codemirror_mode": {
    "name": "ipython",
    "version": 3
   },
   "file_extension": ".py",
   "mimetype": "text/x-python",
   "name": "python",
   "nbconvert_exporter": "python",
   "pygments_lexer": "ipython3",
   "version": "3.6.9"
  },
  "toc": {
   "base_numbering": 1,
   "nav_menu": {},
   "number_sections": true,
   "sideBar": true,
   "skip_h1_title": false,
   "title_cell": "Table of Contents",
   "title_sidebar": "Contents",
   "toc_cell": false,
   "toc_position": {},
   "toc_section_display": true,
   "toc_window_display": false
  },
  "varInspector": {
   "cols": {
    "lenName": 16,
    "lenType": 16,
    "lenVar": 40
   },
   "kernels_config": {
    "python": {
     "delete_cmd_postfix": "",
     "delete_cmd_prefix": "del ",
     "library": "var_list.py",
     "varRefreshCmd": "print(var_dic_list())"
    },
    "r": {
     "delete_cmd_postfix": ") ",
     "delete_cmd_prefix": "rm(",
     "library": "var_list.r",
     "varRefreshCmd": "cat(var_dic_list()) "
    }
   },
   "types_to_exclude": [
    "module",
    "function",
    "builtin_function_or_method",
    "instance",
    "_Feature"
   ],
   "window_display": false
  }
 },
 "nbformat": 4,
 "nbformat_minor": 2
}
